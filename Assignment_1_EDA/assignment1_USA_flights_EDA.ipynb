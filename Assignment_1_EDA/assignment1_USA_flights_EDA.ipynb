{
 "cells": [
  {
   "cell_type": "markdown",
   "metadata": {},
   "source": [
    "\n",
    "## Open Machine Learning Course \n",
    "\n",
    "Authors: [Yury Kashnitskiy](https://yorko.github.io) and [Maxim Keremet](https://www.linkedin.com/in/maximkeremet/). Translated and edited by  [Artem Trunov](https://www.linkedin.com/in/datamove/), and [Aditya Soni](https://www.linkedin.com/in/aditya-soni-0505a9124/). This material is subject to the terms and conditions of the [Creative Commons CC BY-NC-SA 4.0](https://creativecommons.org/licenses/by-nc-sa/4.0/) license. Free use is permitted for any non-commercial purpose."
   ]
  },
  {
   "cell_type": "code",
   "execution_count": 1,
   "metadata": {},
   "outputs": [],
   "source": [
    "import numpy as np\n",
    "import pandas as pd\n",
    "# pip install seaborn \n",
    "import seaborn as sns\n",
    "import matplotlib.pyplot as plt"
   ]
  },
  {
   "cell_type": "markdown",
   "metadata": {},
   "source": [
    "Consider the following terms we use:\n",
    "* unique flight - a record (row) in the dataset\n",
    "* completed flight = flight that is not cancelled (Cancelled==0 in the dataset)\n",
    "* flight code - a combination of ['UniqueCarrier','FlightNum'], i.e.  UA52\n",
    "* airport code - a three letter airport alias from 'Origin or 'Dest' columns"
   ]
  },
  {
   "cell_type": "markdown",
   "metadata": {},
   "source": [
    "**Reading data into memory and creating a Pandas ``DataFrame`` object**\n",
    "\n",
    "(This may take a while, be patient)\n",
    "\n",
    "We are not going to read in the whole dataset. In order to reduce memory footprint, we instead load only needed columns and cast them to suitable data types."
   ]
  },
  {
   "cell_type": "code",
   "execution_count": 2,
   "metadata": {},
   "outputs": [],
   "source": [
    "dtype = {'DayOfWeek': np.uint8, 'DayofMonth': np.uint8, 'Month': np.uint8 , \n",
    "         'Cancelled': np.uint8, 'Year': np.uint16, 'FlightNum': np.uint16 , \n",
    "         'Distance': np.uint16, 'UniqueCarrier': str, 'CancellationCode': str, \n",
    "         'Origin': str, 'Dest': str, 'ArrDelay': np.float16, \n",
    "         'DepDelay': np.float16, 'CarrierDelay': np.float16, \n",
    "         'WeatherDelay': np.float16, 'NASDelay': np.float16, \n",
    "         'SecurityDelay': np.float16, 'LateAircraftDelay': np.float16, \n",
    "         'DepTime': np.float16}"
   ]
  },
  {
   "cell_type": "code",
   "execution_count": 3,
   "metadata": {},
   "outputs": [
    {
     "name": "stdout",
     "output_type": "stream",
     "text": [
      "Wall time: 56.9 s\n"
     ]
    }
   ],
   "source": [
    "%%time\n",
    "# change the path if needed\n",
    "path = 'data/2008.csv'\n",
    "flights_df = pd.read_csv(path, usecols=dtype.keys(), dtype=dtype)"
   ]
  },
  {
   "cell_type": "markdown",
   "metadata": {},
   "source": [
    "**Check the number of rows and columns and print column names.**"
   ]
  },
  {
   "cell_type": "code",
   "execution_count": 4,
   "metadata": {},
   "outputs": [
    {
     "name": "stdout",
     "output_type": "stream",
     "text": [
      "(7009728, 19)\n",
      "Index(['Year', 'Month', 'DayofMonth', 'DayOfWeek', 'DepTime', 'UniqueCarrier',\n",
      "       'FlightNum', 'ArrDelay', 'DepDelay', 'Origin', 'Dest', 'Distance',\n",
      "       'Cancelled', 'CancellationCode', 'CarrierDelay', 'WeatherDelay',\n",
      "       'NASDelay', 'SecurityDelay', 'LateAircraftDelay'],\n",
      "      dtype='object')\n"
     ]
    }
   ],
   "source": [
    "print(flights_df.shape)\n",
    "print(flights_df.columns)"
   ]
  },
  {
   "cell_type": "markdown",
   "metadata": {},
   "source": [
    "**Print first 5 rows of the dataset.**"
   ]
  },
  {
   "cell_type": "code",
   "execution_count": 5,
   "metadata": {},
   "outputs": [
    {
     "data": {
      "text/html": [
       "<div>\n",
       "<style scoped>\n",
       "    .dataframe tbody tr th:only-of-type {\n",
       "        vertical-align: middle;\n",
       "    }\n",
       "\n",
       "    .dataframe tbody tr th {\n",
       "        vertical-align: top;\n",
       "    }\n",
       "\n",
       "    .dataframe thead th {\n",
       "        text-align: right;\n",
       "    }\n",
       "</style>\n",
       "<table border=\"1\" class=\"dataframe\">\n",
       "  <thead>\n",
       "    <tr style=\"text-align: right;\">\n",
       "      <th></th>\n",
       "      <th>Year</th>\n",
       "      <th>Month</th>\n",
       "      <th>DayofMonth</th>\n",
       "      <th>DayOfWeek</th>\n",
       "      <th>DepTime</th>\n",
       "      <th>UniqueCarrier</th>\n",
       "      <th>FlightNum</th>\n",
       "      <th>ArrDelay</th>\n",
       "      <th>DepDelay</th>\n",
       "      <th>Origin</th>\n",
       "      <th>Dest</th>\n",
       "      <th>Distance</th>\n",
       "      <th>Cancelled</th>\n",
       "      <th>CancellationCode</th>\n",
       "      <th>CarrierDelay</th>\n",
       "      <th>WeatherDelay</th>\n",
       "      <th>NASDelay</th>\n",
       "      <th>SecurityDelay</th>\n",
       "      <th>LateAircraftDelay</th>\n",
       "    </tr>\n",
       "  </thead>\n",
       "  <tbody>\n",
       "    <tr>\n",
       "      <th>0</th>\n",
       "      <td>2008</td>\n",
       "      <td>1</td>\n",
       "      <td>3</td>\n",
       "      <td>4</td>\n",
       "      <td>2003.0</td>\n",
       "      <td>WN</td>\n",
       "      <td>335</td>\n",
       "      <td>-14.0</td>\n",
       "      <td>8.0</td>\n",
       "      <td>IAD</td>\n",
       "      <td>TPA</td>\n",
       "      <td>810</td>\n",
       "      <td>0</td>\n",
       "      <td>NaN</td>\n",
       "      <td>NaN</td>\n",
       "      <td>NaN</td>\n",
       "      <td>NaN</td>\n",
       "      <td>NaN</td>\n",
       "      <td>NaN</td>\n",
       "    </tr>\n",
       "    <tr>\n",
       "      <th>1</th>\n",
       "      <td>2008</td>\n",
       "      <td>1</td>\n",
       "      <td>3</td>\n",
       "      <td>4</td>\n",
       "      <td>754.0</td>\n",
       "      <td>WN</td>\n",
       "      <td>3231</td>\n",
       "      <td>2.0</td>\n",
       "      <td>19.0</td>\n",
       "      <td>IAD</td>\n",
       "      <td>TPA</td>\n",
       "      <td>810</td>\n",
       "      <td>0</td>\n",
       "      <td>NaN</td>\n",
       "      <td>NaN</td>\n",
       "      <td>NaN</td>\n",
       "      <td>NaN</td>\n",
       "      <td>NaN</td>\n",
       "      <td>NaN</td>\n",
       "    </tr>\n",
       "    <tr>\n",
       "      <th>2</th>\n",
       "      <td>2008</td>\n",
       "      <td>1</td>\n",
       "      <td>3</td>\n",
       "      <td>4</td>\n",
       "      <td>628.0</td>\n",
       "      <td>WN</td>\n",
       "      <td>448</td>\n",
       "      <td>14.0</td>\n",
       "      <td>8.0</td>\n",
       "      <td>IND</td>\n",
       "      <td>BWI</td>\n",
       "      <td>515</td>\n",
       "      <td>0</td>\n",
       "      <td>NaN</td>\n",
       "      <td>NaN</td>\n",
       "      <td>NaN</td>\n",
       "      <td>NaN</td>\n",
       "      <td>NaN</td>\n",
       "      <td>NaN</td>\n",
       "    </tr>\n",
       "    <tr>\n",
       "      <th>3</th>\n",
       "      <td>2008</td>\n",
       "      <td>1</td>\n",
       "      <td>3</td>\n",
       "      <td>4</td>\n",
       "      <td>926.0</td>\n",
       "      <td>WN</td>\n",
       "      <td>1746</td>\n",
       "      <td>-6.0</td>\n",
       "      <td>-4.0</td>\n",
       "      <td>IND</td>\n",
       "      <td>BWI</td>\n",
       "      <td>515</td>\n",
       "      <td>0</td>\n",
       "      <td>NaN</td>\n",
       "      <td>NaN</td>\n",
       "      <td>NaN</td>\n",
       "      <td>NaN</td>\n",
       "      <td>NaN</td>\n",
       "      <td>NaN</td>\n",
       "    </tr>\n",
       "    <tr>\n",
       "      <th>4</th>\n",
       "      <td>2008</td>\n",
       "      <td>1</td>\n",
       "      <td>3</td>\n",
       "      <td>4</td>\n",
       "      <td>1829.0</td>\n",
       "      <td>WN</td>\n",
       "      <td>3920</td>\n",
       "      <td>34.0</td>\n",
       "      <td>34.0</td>\n",
       "      <td>IND</td>\n",
       "      <td>BWI</td>\n",
       "      <td>515</td>\n",
       "      <td>0</td>\n",
       "      <td>NaN</td>\n",
       "      <td>2.0</td>\n",
       "      <td>0.0</td>\n",
       "      <td>0.0</td>\n",
       "      <td>0.0</td>\n",
       "      <td>32.0</td>\n",
       "    </tr>\n",
       "  </tbody>\n",
       "</table>\n",
       "</div>"
      ],
      "text/plain": [
       "   Year  Month  DayofMonth  DayOfWeek  DepTime UniqueCarrier  FlightNum  \\\n",
       "0  2008      1           3          4   2003.0            WN        335   \n",
       "1  2008      1           3          4    754.0            WN       3231   \n",
       "2  2008      1           3          4    628.0            WN        448   \n",
       "3  2008      1           3          4    926.0            WN       1746   \n",
       "4  2008      1           3          4   1829.0            WN       3920   \n",
       "\n",
       "   ArrDelay  DepDelay Origin Dest  Distance  Cancelled CancellationCode  \\\n",
       "0     -14.0       8.0    IAD  TPA       810          0              NaN   \n",
       "1       2.0      19.0    IAD  TPA       810          0              NaN   \n",
       "2      14.0       8.0    IND  BWI       515          0              NaN   \n",
       "3      -6.0      -4.0    IND  BWI       515          0              NaN   \n",
       "4      34.0      34.0    IND  BWI       515          0              NaN   \n",
       "\n",
       "   CarrierDelay  WeatherDelay  NASDelay  SecurityDelay  LateAircraftDelay  \n",
       "0           NaN           NaN       NaN            NaN                NaN  \n",
       "1           NaN           NaN       NaN            NaN                NaN  \n",
       "2           NaN           NaN       NaN            NaN                NaN  \n",
       "3           NaN           NaN       NaN            NaN                NaN  \n",
       "4           2.0           0.0       0.0            0.0               32.0  "
      ]
     },
     "execution_count": 5,
     "metadata": {},
     "output_type": "execute_result"
    }
   ],
   "source": [
    "flights_df.head()"
   ]
  },
  {
   "cell_type": "markdown",
   "metadata": {},
   "source": [
    "**Transpose the frame to see all features at once.**"
   ]
  },
  {
   "cell_type": "code",
   "execution_count": 6,
   "metadata": {},
   "outputs": [
    {
     "data": {
      "text/html": [
       "<div>\n",
       "<style scoped>\n",
       "    .dataframe tbody tr th:only-of-type {\n",
       "        vertical-align: middle;\n",
       "    }\n",
       "\n",
       "    .dataframe tbody tr th {\n",
       "        vertical-align: top;\n",
       "    }\n",
       "\n",
       "    .dataframe thead th {\n",
       "        text-align: right;\n",
       "    }\n",
       "</style>\n",
       "<table border=\"1\" class=\"dataframe\">\n",
       "  <thead>\n",
       "    <tr style=\"text-align: right;\">\n",
       "      <th></th>\n",
       "      <th>0</th>\n",
       "      <th>1</th>\n",
       "      <th>2</th>\n",
       "      <th>3</th>\n",
       "      <th>4</th>\n",
       "    </tr>\n",
       "  </thead>\n",
       "  <tbody>\n",
       "    <tr>\n",
       "      <th>Year</th>\n",
       "      <td>2008</td>\n",
       "      <td>2008</td>\n",
       "      <td>2008</td>\n",
       "      <td>2008</td>\n",
       "      <td>2008</td>\n",
       "    </tr>\n",
       "    <tr>\n",
       "      <th>Month</th>\n",
       "      <td>1</td>\n",
       "      <td>1</td>\n",
       "      <td>1</td>\n",
       "      <td>1</td>\n",
       "      <td>1</td>\n",
       "    </tr>\n",
       "    <tr>\n",
       "      <th>DayofMonth</th>\n",
       "      <td>3</td>\n",
       "      <td>3</td>\n",
       "      <td>3</td>\n",
       "      <td>3</td>\n",
       "      <td>3</td>\n",
       "    </tr>\n",
       "    <tr>\n",
       "      <th>DayOfWeek</th>\n",
       "      <td>4</td>\n",
       "      <td>4</td>\n",
       "      <td>4</td>\n",
       "      <td>4</td>\n",
       "      <td>4</td>\n",
       "    </tr>\n",
       "    <tr>\n",
       "      <th>DepTime</th>\n",
       "      <td>2003</td>\n",
       "      <td>754</td>\n",
       "      <td>628</td>\n",
       "      <td>926</td>\n",
       "      <td>1829</td>\n",
       "    </tr>\n",
       "    <tr>\n",
       "      <th>UniqueCarrier</th>\n",
       "      <td>WN</td>\n",
       "      <td>WN</td>\n",
       "      <td>WN</td>\n",
       "      <td>WN</td>\n",
       "      <td>WN</td>\n",
       "    </tr>\n",
       "    <tr>\n",
       "      <th>FlightNum</th>\n",
       "      <td>335</td>\n",
       "      <td>3231</td>\n",
       "      <td>448</td>\n",
       "      <td>1746</td>\n",
       "      <td>3920</td>\n",
       "    </tr>\n",
       "    <tr>\n",
       "      <th>ArrDelay</th>\n",
       "      <td>-14</td>\n",
       "      <td>2</td>\n",
       "      <td>14</td>\n",
       "      <td>-6</td>\n",
       "      <td>34</td>\n",
       "    </tr>\n",
       "    <tr>\n",
       "      <th>DepDelay</th>\n",
       "      <td>8</td>\n",
       "      <td>19</td>\n",
       "      <td>8</td>\n",
       "      <td>-4</td>\n",
       "      <td>34</td>\n",
       "    </tr>\n",
       "    <tr>\n",
       "      <th>Origin</th>\n",
       "      <td>IAD</td>\n",
       "      <td>IAD</td>\n",
       "      <td>IND</td>\n",
       "      <td>IND</td>\n",
       "      <td>IND</td>\n",
       "    </tr>\n",
       "    <tr>\n",
       "      <th>Dest</th>\n",
       "      <td>TPA</td>\n",
       "      <td>TPA</td>\n",
       "      <td>BWI</td>\n",
       "      <td>BWI</td>\n",
       "      <td>BWI</td>\n",
       "    </tr>\n",
       "    <tr>\n",
       "      <th>Distance</th>\n",
       "      <td>810</td>\n",
       "      <td>810</td>\n",
       "      <td>515</td>\n",
       "      <td>515</td>\n",
       "      <td>515</td>\n",
       "    </tr>\n",
       "    <tr>\n",
       "      <th>Cancelled</th>\n",
       "      <td>0</td>\n",
       "      <td>0</td>\n",
       "      <td>0</td>\n",
       "      <td>0</td>\n",
       "      <td>0</td>\n",
       "    </tr>\n",
       "    <tr>\n",
       "      <th>CancellationCode</th>\n",
       "      <td>NaN</td>\n",
       "      <td>NaN</td>\n",
       "      <td>NaN</td>\n",
       "      <td>NaN</td>\n",
       "      <td>NaN</td>\n",
       "    </tr>\n",
       "    <tr>\n",
       "      <th>CarrierDelay</th>\n",
       "      <td>NaN</td>\n",
       "      <td>NaN</td>\n",
       "      <td>NaN</td>\n",
       "      <td>NaN</td>\n",
       "      <td>2</td>\n",
       "    </tr>\n",
       "    <tr>\n",
       "      <th>WeatherDelay</th>\n",
       "      <td>NaN</td>\n",
       "      <td>NaN</td>\n",
       "      <td>NaN</td>\n",
       "      <td>NaN</td>\n",
       "      <td>0</td>\n",
       "    </tr>\n",
       "    <tr>\n",
       "      <th>NASDelay</th>\n",
       "      <td>NaN</td>\n",
       "      <td>NaN</td>\n",
       "      <td>NaN</td>\n",
       "      <td>NaN</td>\n",
       "      <td>0</td>\n",
       "    </tr>\n",
       "    <tr>\n",
       "      <th>SecurityDelay</th>\n",
       "      <td>NaN</td>\n",
       "      <td>NaN</td>\n",
       "      <td>NaN</td>\n",
       "      <td>NaN</td>\n",
       "      <td>0</td>\n",
       "    </tr>\n",
       "    <tr>\n",
       "      <th>LateAircraftDelay</th>\n",
       "      <td>NaN</td>\n",
       "      <td>NaN</td>\n",
       "      <td>NaN</td>\n",
       "      <td>NaN</td>\n",
       "      <td>32</td>\n",
       "    </tr>\n",
       "  </tbody>\n",
       "</table>\n",
       "</div>"
      ],
      "text/plain": [
       "                      0     1     2     3     4\n",
       "Year               2008  2008  2008  2008  2008\n",
       "Month                 1     1     1     1     1\n",
       "DayofMonth            3     3     3     3     3\n",
       "DayOfWeek             4     4     4     4     4\n",
       "DepTime            2003   754   628   926  1829\n",
       "UniqueCarrier        WN    WN    WN    WN    WN\n",
       "FlightNum           335  3231   448  1746  3920\n",
       "ArrDelay            -14     2    14    -6    34\n",
       "DepDelay              8    19     8    -4    34\n",
       "Origin              IAD   IAD   IND   IND   IND\n",
       "Dest                TPA   TPA   BWI   BWI   BWI\n",
       "Distance            810   810   515   515   515\n",
       "Cancelled             0     0     0     0     0\n",
       "CancellationCode    NaN   NaN   NaN   NaN   NaN\n",
       "CarrierDelay        NaN   NaN   NaN   NaN     2\n",
       "WeatherDelay        NaN   NaN   NaN   NaN     0\n",
       "NASDelay            NaN   NaN   NaN   NaN     0\n",
       "SecurityDelay       NaN   NaN   NaN   NaN     0\n",
       "LateAircraftDelay   NaN   NaN   NaN   NaN    32"
      ]
     },
     "execution_count": 6,
     "metadata": {},
     "output_type": "execute_result"
    }
   ],
   "source": [
    "flights_df.head().T"
   ]
  },
  {
   "cell_type": "markdown",
   "metadata": {},
   "source": [
    "** Let's add new column - unique FlightId: **"
   ]
  },
  {
   "cell_type": "code",
   "execution_count": 7,
   "metadata": {},
   "outputs": [
    {
     "data": {
      "text/plain": [
       "0     WN335\n",
       "1    WN3231\n",
       "2     WN448\n",
       "3    WN1746\n",
       "4    WN3920\n",
       "Name: FlightId, dtype: object"
      ]
     },
     "execution_count": 7,
     "metadata": {},
     "output_type": "execute_result"
    }
   ],
   "source": [
    "flights_df['FlightId'] = flights_df['UniqueCarrier'] + flights_df['FlightNum'].astype(str)\n",
    "flights_df['FlightId'].head()"
   ]
  },
  {
   "cell_type": "markdown",
   "metadata": {},
   "source": [
    "**Examine data types of all features and total dataframe size in memory.**"
   ]
  },
  {
   "cell_type": "code",
   "execution_count": 8,
   "metadata": {},
   "outputs": [
    {
     "name": "stdout",
     "output_type": "stream",
     "text": [
      "<class 'pandas.core.frame.DataFrame'>\n",
      "RangeIndex: 7009728 entries, 0 to 7009727\n",
      "Data columns (total 20 columns):\n",
      "Year                 uint16\n",
      "Month                uint8\n",
      "DayofMonth           uint8\n",
      "DayOfWeek            uint8\n",
      "DepTime              float16\n",
      "UniqueCarrier        object\n",
      "FlightNum            uint16\n",
      "ArrDelay             float16\n",
      "DepDelay             float16\n",
      "Origin               object\n",
      "Dest                 object\n",
      "Distance             uint16\n",
      "Cancelled            uint8\n",
      "CancellationCode     object\n",
      "CarrierDelay         float16\n",
      "WeatherDelay         float16\n",
      "NASDelay             float16\n",
      "SecurityDelay        float16\n",
      "LateAircraftDelay    float16\n",
      "FlightId             object\n",
      "dtypes: float16(8), object(5), uint16(3), uint8(4)\n",
      "memory usage: 441.2+ MB\n"
     ]
    }
   ],
   "source": [
    "flights_df.info()"
   ]
  },
  {
   "cell_type": "markdown",
   "metadata": {},
   "source": [
    "**Get basic statistics of each feature.**"
   ]
  },
  {
   "cell_type": "code",
   "execution_count": 9,
   "metadata": {},
   "outputs": [
    {
     "data": {
      "text/html": [
       "<div>\n",
       "<style scoped>\n",
       "    .dataframe tbody tr th:only-of-type {\n",
       "        vertical-align: middle;\n",
       "    }\n",
       "\n",
       "    .dataframe tbody tr th {\n",
       "        vertical-align: top;\n",
       "    }\n",
       "\n",
       "    .dataframe thead th {\n",
       "        text-align: right;\n",
       "    }\n",
       "</style>\n",
       "<table border=\"1\" class=\"dataframe\">\n",
       "  <thead>\n",
       "    <tr style=\"text-align: right;\">\n",
       "      <th></th>\n",
       "      <th>count</th>\n",
       "      <th>mean</th>\n",
       "      <th>std</th>\n",
       "      <th>min</th>\n",
       "      <th>25%</th>\n",
       "      <th>50%</th>\n",
       "      <th>75%</th>\n",
       "      <th>max</th>\n",
       "    </tr>\n",
       "  </thead>\n",
       "  <tbody>\n",
       "    <tr>\n",
       "      <th>Year</th>\n",
       "      <td>7009728.0</td>\n",
       "      <td>2008.000000</td>\n",
       "      <td>0.000000</td>\n",
       "      <td>2008.0</td>\n",
       "      <td>2008.0</td>\n",
       "      <td>2008.0</td>\n",
       "      <td>2008.0</td>\n",
       "      <td>2008.0</td>\n",
       "    </tr>\n",
       "    <tr>\n",
       "      <th>Month</th>\n",
       "      <td>7009728.0</td>\n",
       "      <td>6.375130</td>\n",
       "      <td>3.406737</td>\n",
       "      <td>1.0</td>\n",
       "      <td>3.0</td>\n",
       "      <td>6.0</td>\n",
       "      <td>9.0</td>\n",
       "      <td>12.0</td>\n",
       "    </tr>\n",
       "    <tr>\n",
       "      <th>DayofMonth</th>\n",
       "      <td>7009728.0</td>\n",
       "      <td>15.728015</td>\n",
       "      <td>8.797068</td>\n",
       "      <td>1.0</td>\n",
       "      <td>8.0</td>\n",
       "      <td>16.0</td>\n",
       "      <td>23.0</td>\n",
       "      <td>31.0</td>\n",
       "    </tr>\n",
       "    <tr>\n",
       "      <th>DayOfWeek</th>\n",
       "      <td>7009728.0</td>\n",
       "      <td>3.924182</td>\n",
       "      <td>1.988259</td>\n",
       "      <td>1.0</td>\n",
       "      <td>2.0</td>\n",
       "      <td>4.0</td>\n",
       "      <td>6.0</td>\n",
       "      <td>7.0</td>\n",
       "    </tr>\n",
       "    <tr>\n",
       "      <th>DepTime</th>\n",
       "      <td>6873482.0</td>\n",
       "      <td>NaN</td>\n",
       "      <td>NaN</td>\n",
       "      <td>1.0</td>\n",
       "      <td>928.0</td>\n",
       "      <td>1325.0</td>\n",
       "      <td>1728.0</td>\n",
       "      <td>2400.0</td>\n",
       "    </tr>\n",
       "    <tr>\n",
       "      <th>FlightNum</th>\n",
       "      <td>7009728.0</td>\n",
       "      <td>2224.200105</td>\n",
       "      <td>1961.715999</td>\n",
       "      <td>1.0</td>\n",
       "      <td>622.0</td>\n",
       "      <td>1571.0</td>\n",
       "      <td>3518.0</td>\n",
       "      <td>9743.0</td>\n",
       "    </tr>\n",
       "    <tr>\n",
       "      <th>ArrDelay</th>\n",
       "      <td>6855029.0</td>\n",
       "      <td>NaN</td>\n",
       "      <td>NaN</td>\n",
       "      <td>-519.0</td>\n",
       "      <td>-10.0</td>\n",
       "      <td>-2.0</td>\n",
       "      <td>12.0</td>\n",
       "      <td>2460.0</td>\n",
       "    </tr>\n",
       "    <tr>\n",
       "      <th>DepDelay</th>\n",
       "      <td>6873482.0</td>\n",
       "      <td>NaN</td>\n",
       "      <td>NaN</td>\n",
       "      <td>-534.0</td>\n",
       "      <td>-4.0</td>\n",
       "      <td>-1.0</td>\n",
       "      <td>8.0</td>\n",
       "      <td>2468.0</td>\n",
       "    </tr>\n",
       "    <tr>\n",
       "      <th>Distance</th>\n",
       "      <td>7009728.0</td>\n",
       "      <td>726.387029</td>\n",
       "      <td>562.101803</td>\n",
       "      <td>11.0</td>\n",
       "      <td>325.0</td>\n",
       "      <td>581.0</td>\n",
       "      <td>954.0</td>\n",
       "      <td>4962.0</td>\n",
       "    </tr>\n",
       "    <tr>\n",
       "      <th>Cancelled</th>\n",
       "      <td>7009728.0</td>\n",
       "      <td>0.019606</td>\n",
       "      <td>0.138643</td>\n",
       "      <td>0.0</td>\n",
       "      <td>0.0</td>\n",
       "      <td>0.0</td>\n",
       "      <td>0.0</td>\n",
       "      <td>1.0</td>\n",
       "    </tr>\n",
       "    <tr>\n",
       "      <th>CarrierDelay</th>\n",
       "      <td>1524735.0</td>\n",
       "      <td>NaN</td>\n",
       "      <td>NaN</td>\n",
       "      <td>0.0</td>\n",
       "      <td>0.0</td>\n",
       "      <td>0.0</td>\n",
       "      <td>16.0</td>\n",
       "      <td>2436.0</td>\n",
       "    </tr>\n",
       "    <tr>\n",
       "      <th>WeatherDelay</th>\n",
       "      <td>1524735.0</td>\n",
       "      <td>NaN</td>\n",
       "      <td>NaN</td>\n",
       "      <td>0.0</td>\n",
       "      <td>0.0</td>\n",
       "      <td>0.0</td>\n",
       "      <td>0.0</td>\n",
       "      <td>1352.0</td>\n",
       "    </tr>\n",
       "    <tr>\n",
       "      <th>NASDelay</th>\n",
       "      <td>1524735.0</td>\n",
       "      <td>NaN</td>\n",
       "      <td>NaN</td>\n",
       "      <td>0.0</td>\n",
       "      <td>0.0</td>\n",
       "      <td>6.0</td>\n",
       "      <td>21.0</td>\n",
       "      <td>1357.0</td>\n",
       "    </tr>\n",
       "    <tr>\n",
       "      <th>SecurityDelay</th>\n",
       "      <td>1524735.0</td>\n",
       "      <td>NaN</td>\n",
       "      <td>NaN</td>\n",
       "      <td>0.0</td>\n",
       "      <td>0.0</td>\n",
       "      <td>0.0</td>\n",
       "      <td>0.0</td>\n",
       "      <td>392.0</td>\n",
       "    </tr>\n",
       "    <tr>\n",
       "      <th>LateAircraftDelay</th>\n",
       "      <td>1524735.0</td>\n",
       "      <td>NaN</td>\n",
       "      <td>NaN</td>\n",
       "      <td>0.0</td>\n",
       "      <td>0.0</td>\n",
       "      <td>0.0</td>\n",
       "      <td>26.0</td>\n",
       "      <td>1316.0</td>\n",
       "    </tr>\n",
       "  </tbody>\n",
       "</table>\n",
       "</div>"
      ],
      "text/plain": [
       "                       count         mean          std     min     25%  \\\n",
       "Year               7009728.0  2008.000000     0.000000  2008.0  2008.0   \n",
       "Month              7009728.0     6.375130     3.406737     1.0     3.0   \n",
       "DayofMonth         7009728.0    15.728015     8.797068     1.0     8.0   \n",
       "DayOfWeek          7009728.0     3.924182     1.988259     1.0     2.0   \n",
       "DepTime            6873482.0          NaN          NaN     1.0   928.0   \n",
       "FlightNum          7009728.0  2224.200105  1961.715999     1.0   622.0   \n",
       "ArrDelay           6855029.0          NaN          NaN  -519.0   -10.0   \n",
       "DepDelay           6873482.0          NaN          NaN  -534.0    -4.0   \n",
       "Distance           7009728.0   726.387029   562.101803    11.0   325.0   \n",
       "Cancelled          7009728.0     0.019606     0.138643     0.0     0.0   \n",
       "CarrierDelay       1524735.0          NaN          NaN     0.0     0.0   \n",
       "WeatherDelay       1524735.0          NaN          NaN     0.0     0.0   \n",
       "NASDelay           1524735.0          NaN          NaN     0.0     0.0   \n",
       "SecurityDelay      1524735.0          NaN          NaN     0.0     0.0   \n",
       "LateAircraftDelay  1524735.0          NaN          NaN     0.0     0.0   \n",
       "\n",
       "                      50%     75%     max  \n",
       "Year               2008.0  2008.0  2008.0  \n",
       "Month                 6.0     9.0    12.0  \n",
       "DayofMonth           16.0    23.0    31.0  \n",
       "DayOfWeek             4.0     6.0     7.0  \n",
       "DepTime            1325.0  1728.0  2400.0  \n",
       "FlightNum          1571.0  3518.0  9743.0  \n",
       "ArrDelay             -2.0    12.0  2460.0  \n",
       "DepDelay             -1.0     8.0  2468.0  \n",
       "Distance            581.0   954.0  4962.0  \n",
       "Cancelled             0.0     0.0     1.0  \n",
       "CarrierDelay          0.0    16.0  2436.0  \n",
       "WeatherDelay          0.0     0.0  1352.0  \n",
       "NASDelay              6.0    21.0  1357.0  \n",
       "SecurityDelay         0.0     0.0   392.0  \n",
       "LateAircraftDelay     0.0    26.0  1316.0  "
      ]
     },
     "execution_count": 9,
     "metadata": {},
     "output_type": "execute_result"
    }
   ],
   "source": [
    "flights_df.describe().T"
   ]
  },
  {
   "cell_type": "markdown",
   "metadata": {},
   "source": [
    "**Count unique Carriers and plot their relative share of flights:**"
   ]
  },
  {
   "cell_type": "code",
   "execution_count": 10,
   "metadata": {},
   "outputs": [
    {
     "data": {
      "text/plain": [
       "20"
      ]
     },
     "execution_count": 10,
     "metadata": {},
     "output_type": "execute_result"
    }
   ],
   "source": [
    "flights_df['UniqueCarrier'].nunique()"
   ]
  },
  {
   "cell_type": "code",
   "execution_count": 11,
   "metadata": {
    "scrolled": true
   },
   "outputs": [
    {
     "data": {
      "image/png": "[encoded data removed]",
      "text/plain": [
       "<Figure size 432x288 with 1 Axes>"
      ]
     },
     "metadata": {},
     "output_type": "display_data"
    }
   ],
   "source": [
    "flights_df.groupby('UniqueCarrier').size().plot(kind='bar');"
   ]
  },
  {
   "cell_type": "markdown",
   "metadata": {},
   "source": [
    "**We can also _group by_ category/categories in order to calculate different aggregated statistics.**\n",
    "\n",
    "**For example, finding top-3 flight codes, that have the largest total distance travelled in year 2008.**"
   ]
  },
  {
   "cell_type": "code",
   "execution_count": 12,
   "metadata": {},
   "outputs": [
    {
     "data": {
      "text/plain": [
       "UniqueCarrier  FlightNum\n",
       "CO             15           1796244.0\n",
       "               14           1796244.0\n",
       "UA             52           1789722.0\n",
       "Name: Distance, dtype: float64"
      ]
     },
     "execution_count": 12,
     "metadata": {},
     "output_type": "execute_result"
    }
   ],
   "source": [
    "flights_df.groupby(['UniqueCarrier','FlightNum'])['Distance'].sum().sort_values(\n",
    "    ascending=False).iloc[:3]"
   ]
  },
  {
   "cell_type": "markdown",
   "metadata": {},
   "source": [
    "**Another way:**"
   ]
  },
  {
   "cell_type": "code",
   "execution_count": 13,
   "metadata": {},
   "outputs": [
    {
     "data": {
      "text/html": [
       "<div>\n",
       "<style scoped>\n",
       "    .dataframe tbody tr th:only-of-type {\n",
       "        vertical-align: middle;\n",
       "    }\n",
       "\n",
       "    .dataframe tbody tr th {\n",
       "        vertical-align: top;\n",
       "    }\n",
       "\n",
       "    .dataframe thead tr th {\n",
       "        text-align: left;\n",
       "    }\n",
       "\n",
       "    .dataframe thead tr:last-of-type th {\n",
       "        text-align: right;\n",
       "    }\n",
       "</style>\n",
       "<table border=\"1\" class=\"dataframe\">\n",
       "  <thead>\n",
       "    <tr>\n",
       "      <th></th>\n",
       "      <th></th>\n",
       "      <th colspan=\"3\" halign=\"left\">Distance</th>\n",
       "      <th>Cancelled</th>\n",
       "    </tr>\n",
       "    <tr>\n",
       "      <th></th>\n",
       "      <th></th>\n",
       "      <th>mean</th>\n",
       "      <th>sum</th>\n",
       "      <th>count</th>\n",
       "      <th>sum</th>\n",
       "    </tr>\n",
       "    <tr>\n",
       "      <th>UniqueCarrier</th>\n",
       "      <th>FlightNum</th>\n",
       "      <th></th>\n",
       "      <th></th>\n",
       "      <th></th>\n",
       "      <th></th>\n",
       "    </tr>\n",
       "  </thead>\n",
       "  <tbody>\n",
       "    <tr>\n",
       "      <th rowspan=\"2\" valign=\"top\">CO</th>\n",
       "      <th>15</th>\n",
       "      <td>4962.000000</td>\n",
       "      <td>1796244.0</td>\n",
       "      <td>362</td>\n",
       "      <td>0</td>\n",
       "    </tr>\n",
       "    <tr>\n",
       "      <th>14</th>\n",
       "      <td>4962.000000</td>\n",
       "      <td>1796244.0</td>\n",
       "      <td>362</td>\n",
       "      <td>0</td>\n",
       "    </tr>\n",
       "    <tr>\n",
       "      <th>UA</th>\n",
       "      <th>52</th>\n",
       "      <td>2465.181818</td>\n",
       "      <td>1789722.0</td>\n",
       "      <td>726</td>\n",
       "      <td>8</td>\n",
       "    </tr>\n",
       "  </tbody>\n",
       "</table>\n",
       "</div>"
      ],
      "text/plain": [
       "                            Distance                  Cancelled\n",
       "                                mean        sum count       sum\n",
       "UniqueCarrier FlightNum                                        \n",
       "CO            15         4962.000000  1796244.0   362         0\n",
       "              14         4962.000000  1796244.0   362         0\n",
       "UA            52         2465.181818  1789722.0   726         8"
      ]
     },
     "execution_count": 13,
     "metadata": {},
     "output_type": "execute_result"
    }
   ],
   "source": [
    "flights_df.groupby(['UniqueCarrier','FlightNum'])\\\n",
    "  .agg({'Distance': [np.mean, np.sum, 'count'],\n",
    "        'Cancelled': np.sum})\\\n",
    "  .sort_values(('Distance', 'sum'), ascending=False)\\\n",
    "  .iloc[0:3]"
   ]
  },
  {
   "cell_type": "markdown",
   "metadata": {},
   "source": [
    "**Number of flights by days of week and months:**"
   ]
  },
  {
   "cell_type": "code",
   "execution_count": 14,
   "metadata": {},
   "outputs": [
    {
     "data": {
      "text/html": [
       "<div>\n",
       "<style scoped>\n",
       "    .dataframe tbody tr th:only-of-type {\n",
       "        vertical-align: middle;\n",
       "    }\n",
       "\n",
       "    .dataframe tbody tr th {\n",
       "        vertical-align: top;\n",
       "    }\n",
       "\n",
       "    .dataframe thead th {\n",
       "        text-align: right;\n",
       "    }\n",
       "</style>\n",
       "<table border=\"1\" class=\"dataframe\">\n",
       "  <thead>\n",
       "    <tr style=\"text-align: right;\">\n",
       "      <th>DayOfWeek</th>\n",
       "      <th>1</th>\n",
       "      <th>2</th>\n",
       "      <th>3</th>\n",
       "      <th>4</th>\n",
       "      <th>5</th>\n",
       "      <th>6</th>\n",
       "      <th>7</th>\n",
       "    </tr>\n",
       "    <tr>\n",
       "      <th>Month</th>\n",
       "      <th></th>\n",
       "      <th></th>\n",
       "      <th></th>\n",
       "      <th></th>\n",
       "      <th></th>\n",
       "      <th></th>\n",
       "      <th></th>\n",
       "    </tr>\n",
       "  </thead>\n",
       "  <tbody>\n",
       "    <tr>\n",
       "      <th>1</th>\n",
       "      <td>80807</td>\n",
       "      <td>97298</td>\n",
       "      <td>100080</td>\n",
       "      <td>102043</td>\n",
       "      <td>81940</td>\n",
       "      <td>67178</td>\n",
       "      <td>76419</td>\n",
       "    </tr>\n",
       "    <tr>\n",
       "      <th>2</th>\n",
       "      <td>81504</td>\n",
       "      <td>79700</td>\n",
       "      <td>80587</td>\n",
       "      <td>82158</td>\n",
       "      <td>102726</td>\n",
       "      <td>66462</td>\n",
       "      <td>76099</td>\n",
       "    </tr>\n",
       "    <tr>\n",
       "      <th>3</th>\n",
       "      <td>103210</td>\n",
       "      <td>81159</td>\n",
       "      <td>82307</td>\n",
       "      <td>82831</td>\n",
       "      <td>82936</td>\n",
       "      <td>86153</td>\n",
       "      <td>97494</td>\n",
       "    </tr>\n",
       "    <tr>\n",
       "      <th>4</th>\n",
       "      <td>82463</td>\n",
       "      <td>100785</td>\n",
       "      <td>102586</td>\n",
       "      <td>82799</td>\n",
       "      <td>82964</td>\n",
       "      <td>68304</td>\n",
       "      <td>78225</td>\n",
       "    </tr>\n",
       "    <tr>\n",
       "      <th>5</th>\n",
       "      <td>80626</td>\n",
       "      <td>79884</td>\n",
       "      <td>81264</td>\n",
       "      <td>102572</td>\n",
       "      <td>102878</td>\n",
       "      <td>84493</td>\n",
       "      <td>74576</td>\n",
       "    </tr>\n",
       "    <tr>\n",
       "      <th>6</th>\n",
       "      <td>104168</td>\n",
       "      <td>82160</td>\n",
       "      <td>82902</td>\n",
       "      <td>83617</td>\n",
       "      <td>83930</td>\n",
       "      <td>72322</td>\n",
       "      <td>99566</td>\n",
       "    </tr>\n",
       "    <tr>\n",
       "      <th>7</th>\n",
       "      <td>84095</td>\n",
       "      <td>103429</td>\n",
       "      <td>103315</td>\n",
       "      <td>105035</td>\n",
       "      <td>79349</td>\n",
       "      <td>72219</td>\n",
       "      <td>80489</td>\n",
       "    </tr>\n",
       "    <tr>\n",
       "      <th>8</th>\n",
       "      <td>82983</td>\n",
       "      <td>80895</td>\n",
       "      <td>81773</td>\n",
       "      <td>82625</td>\n",
       "      <td>103878</td>\n",
       "      <td>86155</td>\n",
       "      <td>93970</td>\n",
       "    </tr>\n",
       "    <tr>\n",
       "      <th>9</th>\n",
       "      <td>94300</td>\n",
       "      <td>91533</td>\n",
       "      <td>74057</td>\n",
       "      <td>75589</td>\n",
       "      <td>75881</td>\n",
       "      <td>58343</td>\n",
       "      <td>71205</td>\n",
       "    </tr>\n",
       "    <tr>\n",
       "      <th>10</th>\n",
       "      <td>75131</td>\n",
       "      <td>72195</td>\n",
       "      <td>91900</td>\n",
       "      <td>94123</td>\n",
       "      <td>93894</td>\n",
       "      <td>58168</td>\n",
       "      <td>70794</td>\n",
       "    </tr>\n",
       "    <tr>\n",
       "      <th>11</th>\n",
       "      <td>74214</td>\n",
       "      <td>72443</td>\n",
       "      <td>73653</td>\n",
       "      <td>68071</td>\n",
       "      <td>70484</td>\n",
       "      <td>76031</td>\n",
       "      <td>88376</td>\n",
       "    </tr>\n",
       "    <tr>\n",
       "      <th>12</th>\n",
       "      <td>92700</td>\n",
       "      <td>90568</td>\n",
       "      <td>85241</td>\n",
       "      <td>70761</td>\n",
       "      <td>74306</td>\n",
       "      <td>61708</td>\n",
       "      <td>69674</td>\n",
       "    </tr>\n",
       "  </tbody>\n",
       "</table>\n",
       "</div>"
      ],
      "text/plain": [
       "DayOfWeek       1       2       3       4       5      6      7\n",
       "Month                                                          \n",
       "1           80807   97298  100080  102043   81940  67178  76419\n",
       "2           81504   79700   80587   82158  102726  66462  76099\n",
       "3          103210   81159   82307   82831   82936  86153  97494\n",
       "4           82463  100785  102586   82799   82964  68304  78225\n",
       "5           80626   79884   81264  102572  102878  84493  74576\n",
       "6          104168   82160   82902   83617   83930  72322  99566\n",
       "7           84095  103429  103315  105035   79349  72219  80489\n",
       "8           82983   80895   81773   82625  103878  86155  93970\n",
       "9           94300   91533   74057   75589   75881  58343  71205\n",
       "10          75131   72195   91900   94123   93894  58168  70794\n",
       "11          74214   72443   73653   68071   70484  76031  88376\n",
       "12          92700   90568   85241   70761   74306  61708  69674"
      ]
     },
     "execution_count": 14,
     "metadata": {},
     "output_type": "execute_result"
    }
   ],
   "source": [
    "pd.crosstab(flights_df.Month, flights_df.DayOfWeek)"
   ]
  },
  {
   "cell_type": "markdown",
   "metadata": {},
   "source": [
    "**It can also be handy to color such tables in order to easily notice outliers:**"
   ]
  },
  {
   "cell_type": "code",
   "execution_count": 15,
   "metadata": {
    "scrolled": true
   },
   "outputs": [
    {
     "data": {
      "image/png": "[encoded data removed]",
      "text/plain": [
       "<Figure size 432x288 with 1 Axes>"
      ]
     },
     "metadata": {},
     "output_type": "display_data"
    }
   ],
   "source": [
    "plt.imshow(pd.crosstab(flights_df.Month, flights_df.DayOfWeek),\n",
    "           cmap='seismic', interpolation='none');"
   ]
  },
  {
   "cell_type": "markdown",
   "metadata": {},
   "source": [
    "**Flight distance histogram:**"
   ]
  },
  {
   "cell_type": "code",
   "execution_count": 16,
   "metadata": {
    "scrolled": false
   },
   "outputs": [
    {
     "data": {
      "image/png": "[encoded data removed]",
      "text/plain": [
       "<Figure size 432x288 with 1 Axes>"
      ]
     },
     "metadata": {},
     "output_type": "display_data"
    }
   ],
   "source": [
    "flights_df.hist('Distance', bins=20);"
   ]
  },
  {
   "cell_type": "markdown",
   "metadata": {},
   "source": [
    "**Making a histogram of flight frequency by date.**"
   ]
  },
  {
   "cell_type": "code",
   "execution_count": 17,
   "metadata": {},
   "outputs": [],
   "source": [
    "flights_df['Date'] = pd.to_datetime(flights_df.rename(\n",
    "    columns={'DayofMonth': 'Day'})[['Year', 'Month', 'Day']])"
   ]
  },
  {
   "cell_type": "code",
   "execution_count": 18,
   "metadata": {},
   "outputs": [
    {
     "data": {
      "text/plain": [
       "0   2008-01-03\n",
       "1   2008-01-03\n",
       "2   2008-01-03\n",
       "3   2008-01-03\n",
       "4   2008-01-03\n",
       "Name: Date, dtype: datetime64[ns]"
      ]
     },
     "execution_count": 18,
     "metadata": {},
     "output_type": "execute_result"
    }
   ],
   "source": [
    "flights_df['Date'].head()"
   ]
  },
  {
   "cell_type": "code",
   "execution_count": 19,
   "metadata": {},
   "outputs": [],
   "source": [
    "num_flights_by_date = flights_df.groupby('Date').size()"
   ]
  },
  {
   "cell_type": "code",
   "execution_count": 20,
   "metadata": {
    "scrolled": true
   },
   "outputs": [
    {
     "data": {
      "image/png": "[encoded data removed]",
      "text/plain": [
       "<Figure size 432x288 with 1 Axes>"
      ]
     },
     "metadata": {},
     "output_type": "display_data"
    }
   ],
   "source": [
    "num_flights_by_date.plot();"
   ]
  },
  {
   "cell_type": "markdown",
   "metadata": {},
   "source": [
    "**Do you see a weekly pattern above? And below?**"
   ]
  },
  {
   "cell_type": "code",
   "execution_count": 21,
   "metadata": {},
   "outputs": [
    {
     "data": {
      "image/png": "[encoded data removed]",
      "text/plain": [
       "<Figure size 432x288 with 1 Axes>"
      ]
     },
     "metadata": {},
     "output_type": "display_data"
    }
   ],
   "source": [
    "num_flights_by_date.rolling(window=7).mean().plot();"
   ]
  },
  {
   "cell_type": "markdown",
   "metadata": {},
   "source": [
    "**We'll need a new column in our dataset - departure hour, let's create it.**\n",
    "\n",
    "As we see, `DepTime` is distributed from 1 to 2400 (it is given in the `hhmm` format, check the [column description](https://www.transtats.bts.gov/Fields.asp?Table_ID=236) again). We'll treat departure hour as `DepTime` // 100 (divide by 100 and apply the `floor` function). However, now we'll have both hour 0 and hour 24. Hour 24 sounds strange, we'll set it to be 0 instead (a typical imperfectness of real data, however, you can check that it affects only 521 rows, which is sort of not a big deal). So now values of a new column `DepHour` will be distributed from 0 to 23. There are some missing values, for now we won't fill in them, just ignore them. "
   ]
  },
  {
   "cell_type": "code",
   "execution_count": 22,
   "metadata": {},
   "outputs": [],
   "source": [
    "flights_df['DepHour'] = flights_df['DepTime'] // 100\n",
    "flights_df['DepHour'].replace(to_replace=24, value=0, inplace=True)"
   ]
  },
  {
   "cell_type": "code",
   "execution_count": 23,
   "metadata": {},
   "outputs": [
    {
     "data": {
      "text/plain": [
       "count    6873482.0\n",
       "mean           NaN\n",
       "std            0.0\n",
       "min            0.0\n",
       "25%            9.0\n",
       "50%           13.0\n",
       "75%           17.0\n",
       "max           23.0\n",
       "Name: DepHour, dtype: float64"
      ]
     },
     "execution_count": 23,
     "metadata": {},
     "output_type": "execute_result"
    }
   ],
   "source": [
    "flights_df['DepHour'].describe()"
   ]
  },
  {
   "cell_type": "markdown",
   "metadata": {},
   "source": [
    "### Now it's your turn. Answer the questions below."
   ]
  },
  {
   "cell_type": "code",
   "execution_count": 24,
   "metadata": {},
   "outputs": [
    {
     "data": {
      "text/html": [
       "<div>\n",
       "<style scoped>\n",
       "    .dataframe tbody tr th:only-of-type {\n",
       "        vertical-align: middle;\n",
       "    }\n",
       "\n",
       "    .dataframe tbody tr th {\n",
       "        vertical-align: top;\n",
       "    }\n",
       "\n",
       "    .dataframe thead th {\n",
       "        text-align: right;\n",
       "    }\n",
       "</style>\n",
       "<table border=\"1\" class=\"dataframe\">\n",
       "  <thead>\n",
       "    <tr style=\"text-align: right;\">\n",
       "      <th></th>\n",
       "      <th>Year</th>\n",
       "      <th>Month</th>\n",
       "      <th>DayofMonth</th>\n",
       "      <th>DayOfWeek</th>\n",
       "      <th>DepTime</th>\n",
       "      <th>UniqueCarrier</th>\n",
       "      <th>FlightNum</th>\n",
       "      <th>ArrDelay</th>\n",
       "      <th>DepDelay</th>\n",
       "      <th>Origin</th>\n",
       "      <th>...</th>\n",
       "      <th>Cancelled</th>\n",
       "      <th>CancellationCode</th>\n",
       "      <th>CarrierDelay</th>\n",
       "      <th>WeatherDelay</th>\n",
       "      <th>NASDelay</th>\n",
       "      <th>SecurityDelay</th>\n",
       "      <th>LateAircraftDelay</th>\n",
       "      <th>FlightId</th>\n",
       "      <th>Date</th>\n",
       "      <th>DepHour</th>\n",
       "    </tr>\n",
       "  </thead>\n",
       "  <tbody>\n",
       "    <tr>\n",
       "      <th>0</th>\n",
       "      <td>2008</td>\n",
       "      <td>1</td>\n",
       "      <td>3</td>\n",
       "      <td>4</td>\n",
       "      <td>2003.0</td>\n",
       "      <td>WN</td>\n",
       "      <td>335</td>\n",
       "      <td>-14.0</td>\n",
       "      <td>8.0</td>\n",
       "      <td>IAD</td>\n",
       "      <td>...</td>\n",
       "      <td>0</td>\n",
       "      <td>NaN</td>\n",
       "      <td>NaN</td>\n",
       "      <td>NaN</td>\n",
       "      <td>NaN</td>\n",
       "      <td>NaN</td>\n",
       "      <td>NaN</td>\n",
       "      <td>WN335</td>\n",
       "      <td>2008-01-03</td>\n",
       "      <td>20.0</td>\n",
       "    </tr>\n",
       "    <tr>\n",
       "      <th>1</th>\n",
       "      <td>2008</td>\n",
       "      <td>1</td>\n",
       "      <td>3</td>\n",
       "      <td>4</td>\n",
       "      <td>754.0</td>\n",
       "      <td>WN</td>\n",
       "      <td>3231</td>\n",
       "      <td>2.0</td>\n",
       "      <td>19.0</td>\n",
       "      <td>IAD</td>\n",
       "      <td>...</td>\n",
       "      <td>0</td>\n",
       "      <td>NaN</td>\n",
       "      <td>NaN</td>\n",
       "      <td>NaN</td>\n",
       "      <td>NaN</td>\n",
       "      <td>NaN</td>\n",
       "      <td>NaN</td>\n",
       "      <td>WN3231</td>\n",
       "      <td>2008-01-03</td>\n",
       "      <td>7.0</td>\n",
       "    </tr>\n",
       "    <tr>\n",
       "      <th>2</th>\n",
       "      <td>2008</td>\n",
       "      <td>1</td>\n",
       "      <td>3</td>\n",
       "      <td>4</td>\n",
       "      <td>628.0</td>\n",
       "      <td>WN</td>\n",
       "      <td>448</td>\n",
       "      <td>14.0</td>\n",
       "      <td>8.0</td>\n",
       "      <td>IND</td>\n",
       "      <td>...</td>\n",
       "      <td>0</td>\n",
       "      <td>NaN</td>\n",
       "      <td>NaN</td>\n",
       "      <td>NaN</td>\n",
       "      <td>NaN</td>\n",
       "      <td>NaN</td>\n",
       "      <td>NaN</td>\n",
       "      <td>WN448</td>\n",
       "      <td>2008-01-03</td>\n",
       "      <td>6.0</td>\n",
       "    </tr>\n",
       "    <tr>\n",
       "      <th>3</th>\n",
       "      <td>2008</td>\n",
       "      <td>1</td>\n",
       "      <td>3</td>\n",
       "      <td>4</td>\n",
       "      <td>926.0</td>\n",
       "      <td>WN</td>\n",
       "      <td>1746</td>\n",
       "      <td>-6.0</td>\n",
       "      <td>-4.0</td>\n",
       "      <td>IND</td>\n",
       "      <td>...</td>\n",
       "      <td>0</td>\n",
       "      <td>NaN</td>\n",
       "      <td>NaN</td>\n",
       "      <td>NaN</td>\n",
       "      <td>NaN</td>\n",
       "      <td>NaN</td>\n",
       "      <td>NaN</td>\n",
       "      <td>WN1746</td>\n",
       "      <td>2008-01-03</td>\n",
       "      <td>9.0</td>\n",
       "    </tr>\n",
       "    <tr>\n",
       "      <th>4</th>\n",
       "      <td>2008</td>\n",
       "      <td>1</td>\n",
       "      <td>3</td>\n",
       "      <td>4</td>\n",
       "      <td>1829.0</td>\n",
       "      <td>WN</td>\n",
       "      <td>3920</td>\n",
       "      <td>34.0</td>\n",
       "      <td>34.0</td>\n",
       "      <td>IND</td>\n",
       "      <td>...</td>\n",
       "      <td>0</td>\n",
       "      <td>NaN</td>\n",
       "      <td>2.0</td>\n",
       "      <td>0.0</td>\n",
       "      <td>0.0</td>\n",
       "      <td>0.0</td>\n",
       "      <td>32.0</td>\n",
       "      <td>WN3920</td>\n",
       "      <td>2008-01-03</td>\n",
       "      <td>18.0</td>\n",
       "    </tr>\n",
       "  </tbody>\n",
       "</table>\n",
       "<p>5 rows × 22 columns</p>\n",
       "</div>"
      ],
      "text/plain": [
       "   Year  Month  DayofMonth  DayOfWeek  DepTime UniqueCarrier  FlightNum  \\\n",
       "0  2008      1           3          4   2003.0            WN        335   \n",
       "1  2008      1           3          4    754.0            WN       3231   \n",
       "2  2008      1           3          4    628.0            WN        448   \n",
       "3  2008      1           3          4    926.0            WN       1746   \n",
       "4  2008      1           3          4   1829.0            WN       3920   \n",
       "\n",
       "   ArrDelay  DepDelay Origin   ...   Cancelled  CancellationCode  \\\n",
       "0     -14.0       8.0    IAD   ...           0               NaN   \n",
       "1       2.0      19.0    IAD   ...           0               NaN   \n",
       "2      14.0       8.0    IND   ...           0               NaN   \n",
       "3      -6.0      -4.0    IND   ...           0               NaN   \n",
       "4      34.0      34.0    IND   ...           0               NaN   \n",
       "\n",
       "   CarrierDelay WeatherDelay  NASDelay  SecurityDelay  LateAircraftDelay  \\\n",
       "0           NaN          NaN       NaN            NaN                NaN   \n",
       "1           NaN          NaN       NaN            NaN                NaN   \n",
       "2           NaN          NaN       NaN            NaN                NaN   \n",
       "3           NaN          NaN       NaN            NaN                NaN   \n",
       "4           2.0          0.0       0.0            0.0               32.0   \n",
       "\n",
       "   FlightId       Date DepHour  \n",
       "0     WN335 2008-01-03    20.0  \n",
       "1    WN3231 2008-01-03     7.0  \n",
       "2     WN448 2008-01-03     6.0  \n",
       "3    WN1746 2008-01-03     9.0  \n",
       "4    WN3920 2008-01-03    18.0  \n",
       "\n",
       "[5 rows x 22 columns]"
      ]
     },
     "execution_count": 24,
     "metadata": {},
     "output_type": "execute_result"
    }
   ],
   "source": [
    "flights_df.head()"
   ]
  },
  {
   "cell_type": "markdown",
   "metadata": {},
   "source": [
    "**1. How many unique carriers are there in our dataset?**\n",
    "\n",
    "- 10\n",
    "- 15\n",
    "- 20\n",
    "- 25 "
   ]
  },
  {
   "cell_type": "code",
   "execution_count": 25,
   "metadata": {},
   "outputs": [
    {
     "data": {
      "text/plain": [
       "20"
      ]
     },
     "execution_count": 25,
     "metadata": {},
     "output_type": "execute_result"
    }
   ],
   "source": [
    "flights_df['UniqueCarrier'].nunique()"
   ]
  },
  {
   "cell_type": "markdown",
   "metadata": {},
   "source": [
    "**2. We have  both cancelled and completed flights in the datset. Check if there are more completed or cancelled flights. What is the difference?** <br>\n",
    "\n",
    "*Hint:* Take a look at *Cancelled* to see the categories and *FlightNum* column to calculate unique flights for each category.\n",
    "\n",
    "- Cancelled overweights completed by 329 flights\n",
    "- Completed overweights cancelled by 6734860 flights\n",
    "- Cancelled overweights completed by 671 flights\n",
    "- Completed overweights cancelled by 11088967 flights"
   ]
  },
  {
   "cell_type": "code",
   "execution_count": 26,
   "metadata": {},
   "outputs": [
    {
     "data": {
      "text/plain": [
       "Cancelled\n",
       "0    7534\n",
       "1    7205\n",
       "Name: FlightNum, dtype: int64"
      ]
     },
     "execution_count": 26,
     "metadata": {},
     "output_type": "execute_result"
    }
   ],
   "source": [
    "flights_df.groupby('Cancelled')['FlightNum'].nunique()"
   ]
  },
  {
   "cell_type": "markdown",
   "metadata": {},
   "source": [
    "**3. Find a flight with the longest departure delays and a flight with the longest arrival delay. Do they have the same destination airport, and if yes, what is its code?**\n",
    "\n",
    "- yes, ATL\n",
    "- yes, HNL\n",
    "- yes, MSP\n",
    "- no"
   ]
  },
  {
   "cell_type": "code",
   "execution_count": 29,
   "metadata": {},
   "outputs": [
    {
     "name": "stdout",
     "output_type": "stream",
     "text": [
      "MSP\n",
      "MSP\n"
     ]
    }
   ],
   "source": [
    "num_departure = flights_df['DepDelay'].idxmax()\n",
    "num_arrival = flights_df['ArrDelay'].idxmax()\n",
    "print(flights_df.iloc[num_departure]['Dest'])\n",
    "print(flights_df.iloc[num_arrival]['Dest'])"
   ]
  },
  {
   "cell_type": "markdown",
   "metadata": {},
   "source": [
    "**4. Find the carrier that has the greatest number of cancelled flights.**\n",
    "\n",
    "- AA\n",
    "- MQ\n",
    "- WN\n",
    "- CO "
   ]
  },
  {
   "cell_type": "code",
   "execution_count": 30,
   "metadata": {},
   "outputs": [
    {
     "data": {
      "text/plain": [
       "'MQ'"
      ]
     },
     "execution_count": 30,
     "metadata": {},
     "output_type": "execute_result"
    }
   ],
   "source": [
    "flights_df[flights_df['Cancelled'] == 1].groupby('UniqueCarrier').size().idxmax()"
   ]
  },
  {
   "cell_type": "markdown",
   "metadata": {},
   "source": [
    "**5. Let's examine departure time and consider distribution by hour (column `DepHour` that we've created earlier). Which hour has the highest percentage of flights?**<br>\n",
    "\n",
    "- 1 am \n",
    "- 5 am  \n",
    "- 8 am\n",
    "- 3 pm "
   ]
  },
  {
   "cell_type": "code",
   "execution_count": 31,
   "metadata": {},
   "outputs": [
    {
     "data": {
      "text/plain": [
       "8.0"
      ]
     },
     "execution_count": 31,
     "metadata": {},
     "output_type": "execute_result"
    }
   ],
   "source": [
    "flights_df.groupby('DepHour').size().idxmax()"
   ]
  },
  {
   "cell_type": "markdown",
   "metadata": {},
   "source": [
    "**6. OK, now let's examine cancelled flight distribution by time. Which hour has the least percentage of cancelled flights?**<br>\n",
    "\n",
    "- 2 am\n",
    "- 9 pm  \n",
    "- 8 am  \n",
    "- 3 am "
   ]
  },
  {
   "cell_type": "code",
   "execution_count": 32,
   "metadata": {},
   "outputs": [
    {
     "data": {
      "text/plain": [
       "DepHour\n",
       "0.0     1.018407e-06\n",
       "1.0     5.819467e-07\n",
       "2.0     1.454867e-07\n",
       "3.0     0.000000e+00\n",
       "4.0     1.454867e-07\n",
       "5.0     3.491680e-06\n",
       "6.0     1.163893e-05\n",
       "7.0     1.207539e-05\n",
       "8.0     1.149345e-05\n",
       "9.0     8.147253e-06\n",
       "10.0    8.292740e-06\n",
       "11.0    8.583713e-06\n",
       "12.0    7.710793e-06\n",
       "13.0    6.837873e-06\n",
       "14.0    8.292740e-06\n",
       "15.0    1.062053e-05\n",
       "16.0    1.062053e-05\n",
       "17.0    1.062053e-05\n",
       "18.0    9.602120e-06\n",
       "19.0    1.178442e-05\n",
       "20.0    7.419820e-06\n",
       "21.0    1.192991e-05\n",
       "22.0    8.292740e-06\n",
       "23.0    3.491680e-06\n",
       "Name: 1, dtype: float64"
      ]
     },
     "execution_count": 32,
     "metadata": {},
     "output_type": "execute_result"
    }
   ],
   "source": [
    "pd.crosstab(flights_df['DepHour'], flights_df['Cancelled'], normalize=True)[1]"
   ]
  },
  {
   "cell_type": "markdown",
   "metadata": {},
   "source": [
    "**7. Is there any hour that didn't have any cancelled flights at all? Check all that apply.**\n",
    "\n",
    "- 3\n",
    "- 19\n",
    "- 22\n",
    "- 4 "
   ]
  },
  {
   "cell_type": "code",
   "execution_count": 33,
   "metadata": {},
   "outputs": [
    {
     "data": {
      "text/plain": [
       "3.0"
      ]
     },
     "execution_count": 33,
     "metadata": {},
     "output_type": "execute_result"
    }
   ],
   "source": [
    "pd.crosstab(flights_df['DepHour'], flights_df['Cancelled'])[1].idxmin()"
   ]
  },
  {
   "cell_type": "markdown",
   "metadata": {},
   "source": [
    "**8. Find the busiest hour, or in other words, the hour when the number of departed flights reaches its maximum.**<br>\n",
    "\n",
    "*Hint:* Consider only *completed* flights.\n",
    "\n",
    "- 4\n",
    "- 7\n",
    "- 8\n",
    "- 17 "
   ]
  },
  {
   "cell_type": "code",
   "execution_count": 34,
   "metadata": {},
   "outputs": [
    {
     "data": {
      "text/plain": [
       "8.0"
      ]
     },
     "execution_count": 34,
     "metadata": {},
     "output_type": "execute_result"
    }
   ],
   "source": [
    "flights_df[flights_df['Cancelled'] == 0].groupby('DepHour').size().idxmax()"
   ]
  },
  {
   "cell_type": "markdown",
   "metadata": {},
   "source": [
    "**9. Since we know the departure hour, it might be interesting to examine the average delay for corresponding hour. Are there any cases, when the planes on average departed earlier than they should have done? And if yes, at what departure hours did it happen?**<br>\n",
    "\n",
    "*Hint:* Consider only *completed* flights.\n",
    "\n",
    "- no, there are no such cases\n",
    "- yes, at 5-6 am\n",
    "- yes, at 9-10 am\n",
    "- yes, at 2-4 pm"
   ]
  },
  {
   "cell_type": "code",
   "execution_count": 35,
   "metadata": {},
   "outputs": [
    {
     "data": {
      "text/plain": [
       "DepHour\n",
       "5.0   -4.253906\n",
       "6.0   -1.629883\n",
       "Name: DepDelay, dtype: float16"
      ]
     },
     "execution_count": 35,
     "metadata": {},
     "output_type": "execute_result"
    }
   ],
   "source": [
    "avg_delay = flights_df[flights_df['Cancelled'] == 0].groupby('DepHour')['DepDelay'].mean()\n",
    "avg_delay[avg_delay < 0]"
   ]
  },
  {
   "cell_type": "markdown",
   "metadata": {},
   "source": [
    "**10. Considering only the completed flights by the carrier, that you have found in Question 4, find the distribution of these flights by hour. At what time does the greatest number of its planes depart?**<br>\n",
    "\n",
    "- at noon\n",
    "- at 7 am \n",
    "- at 8 am\n",
    "- at 10 am"
   ]
  },
  {
   "cell_type": "code",
   "execution_count": 36,
   "metadata": {},
   "outputs": [
    {
     "data": {
      "text/plain": [
       "10.0"
      ]
     },
     "execution_count": 36,
     "metadata": {},
     "output_type": "execute_result"
    }
   ],
   "source": [
    "carrier = flights_df[flights_df['Cancelled'] == 1].groupby('UniqueCarrier')['FlightNum'].count().idxmax()\n",
    "flights_df[(flights_df['Cancelled'] == 0) & (flights_df['UniqueCarrier'] == carrier)].\\\n",
    "                            groupby('DepHour').size().idxmax()"
   ]
  },
  {
   "cell_type": "markdown",
   "metadata": {},
   "source": [
    "**11. Find top-10 carriers in terms of the number of *completed* flights (_UniqueCarrier_ column)?**\n",
    "\n",
    "**Which of the listed below is _not_ in your top-10 list?**\n",
    "- DL\n",
    "- AA\n",
    "- OO\n",
    "- EV"
   ]
  },
  {
   "cell_type": "code",
   "execution_count": 37,
   "metadata": {},
   "outputs": [
    {
     "data": {
      "text/plain": [
       "UniqueCarrier\n",
       "WN    1189365\n",
       "AA     587445\n",
       "OO     554723\n",
       "MQ     472362\n",
       "US     447007\n",
       "DL     445118\n",
       "UA     438974\n",
       "XE     364518\n",
       "NW     344746\n",
       "CO     294753\n",
       "Name: FlightNum, dtype: int64"
      ]
     },
     "execution_count": 37,
     "metadata": {},
     "output_type": "execute_result"
    }
   ],
   "source": [
    "carriers = flights_df[flights_df['Cancelled'] == 0].groupby('UniqueCarrier')['FlightNum'].count()\n",
    "carriers.sort_values(ascending=False).iloc[:10]"
   ]
  },
  {
   "cell_type": "markdown",
   "metadata": {},
   "source": [
    "**12. Plot distributions of flight cancellation reasons (_CancellationCode_).**\n",
    "\n",
    "**What is the most frequent reason for flight cancellation? (Use this [link](https://www.transtats.bts.gov/Fields.asp?Table_ID=236) to translate codes into reasons)**\n",
    "- Carrier\n",
    "- Weather conditions\n",
    "- National Air System\n",
    "- Security reasons"
   ]
  },
  {
   "cell_type": "code",
   "execution_count": 39,
   "metadata": {},
   "outputs": [
    {
     "data": {
      "text/plain": [
       "<matplotlib.axes._subplots.AxesSubplot at 0x20d823b6b00>"
      ]
     },
     "execution_count": 39,
     "metadata": {},
     "output_type": "execute_result"
    },
    {
     "data": {
      "image/png": "[encoded data removed]",
      "text/plain": [
       "<Figure size 432x288 with 1 Axes>"
      ]
     },
     "metadata": {},
     "output_type": "display_data"
    }
   ],
   "source": [
    "flights_df.groupby('CancellationCode').size().plot(kind='bar')"
   ]
  },
  {
   "cell_type": "markdown",
   "metadata": {},
   "source": [
    "**13. Which route is the most frequent, in terms of the number of flights?**\n",
    "\n",
    "(Take a look at _'Origin'_ and _'Dest'_ features. Consider _A->B_ and _B->A_ directions as _different_ routes) \n",
    "\n",
    " - New-York – Washington (JFK-IAD)\n",
    " - San-Francisco – Los-Angeles (SFO-LAX)\n",
    " - San-Jose – Dallas (SJC-DFW)\n",
    " - New-York – San-Francisco (JFK-SFO)"
   ]
  },
  {
   "cell_type": "code",
   "execution_count": 40,
   "metadata": {},
   "outputs": [
    {
     "data": {
      "text/plain": [
       "'SFO-LAX'"
      ]
     },
     "execution_count": 40,
     "metadata": {},
     "output_type": "execute_result"
    }
   ],
   "source": [
    "flights_df['Route'] = flights_df['Origin'] + '-' + flights_df['Dest']\n",
    "flights_df.groupby('Route').size().idxmax()"
   ]
  },
  {
   "cell_type": "markdown",
   "metadata": {},
   "source": [
    "**14. Find top-5 delayed routes (count how many times they were delayed on departure). From all flights on these 5 routes, count all flights with weather conditions contributing to a delay.**\n",
    "\n",
    "_Hint_: consider only positive delays\n",
    "\n",
    "- 449 \n",
    "- 539 \n",
    "- 549 \n",
    "- 668"
   ]
  },
  {
   "cell_type": "code",
   "execution_count": 41,
   "metadata": {},
   "outputs": [
    {
     "data": {
      "text/plain": [
       "668"
      ]
     },
     "execution_count": 41,
     "metadata": {},
     "output_type": "execute_result"
    }
   ],
   "source": [
    "most_delayed = flights_df[flights_df['DepDelay'] > 0].groupby('Route').size().sort_values(ascending=False).iloc[:5].index\n",
    "flights_df[(flights_df['Route'].isin(most_delayed)) & (flights_df['WeatherDelay'] > 0)]['FlightNum'].count()"
   ]
  },
  {
   "cell_type": "code",
   "execution_count": 42,
   "metadata": {},
   "outputs": [
    {
     "data": {
      "text/plain": [
       "Index(['LAX-SFO', 'DAL-HOU', 'SFO-LAX', 'ORD-LGA', 'HOU-DAL'], dtype='object', name='Route')"
      ]
     },
     "execution_count": 42,
     "metadata": {},
     "output_type": "execute_result"
    }
   ],
   "source": [
    "most_delayed"
   ]
  },
  {
   "cell_type": "markdown",
   "metadata": {},
   "source": [
    "**15. Examine the hourly distribution of departure times. Choose all correct statements:**\n",
    "\n",
    " - Flights are normally distributed within time interval [0-23] (Search for: Normal distribution, bell curve).\n",
    " - Flights are uniformly distributed within time interval [0-23].\n",
    " - In the period from 0 am to 4 am there are considerably less flights than from 7 pm to 8 pm."
   ]
  },
  {
   "cell_type": "code",
   "execution_count": 43,
   "metadata": {},
   "outputs": [
    {
     "data": {
      "text/plain": [
       "<matplotlib.axes._subplots.AxesSubplot at 0x20d824b03c8>"
      ]
     },
     "execution_count": 43,
     "metadata": {},
     "output_type": "execute_result"
    },
    {
     "data": {
      "image/png": "[encoded data removed]",
      "text/plain": [
       "<Figure size 432x288 with 1 Axes>"
      ]
     },
     "metadata": {},
     "output_type": "display_data"
    }
   ],
   "source": [
    "flights_df.groupby('DepHour').size().plot(kind='bar')"
   ]
  },
  {
   "cell_type": "markdown",
   "metadata": {},
   "source": [
    "**16. Show how the number of flights changes through time (on the daily/weekly/monthly basis) and interpret the findings.**\n",
    "\n",
    "**Choose all correct statements:**\n",
    "- The number of flights during weekends is less than during weekdays (working days). \n",
    "- The lowest number of flights is on Sunday.\n",
    "- There are less flights during winter than during summer.\n",
    "\n",
    "_Hint_: Look for official meteorological winter months for the Nothern Hemisphsere."
   ]
  },
  {
   "cell_type": "code",
   "execution_count": 44,
   "metadata": {},
   "outputs": [
    {
     "data": {
      "text/plain": [
       "<matplotlib.axes._subplots.AxesSubplot at 0x20d82533978>"
      ]
     },
     "execution_count": 44,
     "metadata": {},
     "output_type": "execute_result"
    },
    {
     "data": {
      "image/png": "[encoded data removed]",
      "text/plain": [
       "<Figure size 432x288 with 1 Axes>"
      ]
     },
     "metadata": {},
     "output_type": "display_data"
    }
   ],
   "source": [
    "flights_df.groupby('DayOfWeek').size().plot(kind='bar')"
   ]
  },
  {
   "cell_type": "code",
   "execution_count": 45,
   "metadata": {},
   "outputs": [
    {
     "data": {
      "text/plain": [
       "<matplotlib.axes._subplots.AxesSubplot at 0x20d825966a0>"
      ]
     },
     "execution_count": 45,
     "metadata": {},
     "output_type": "execute_result"
    },
    {
     "data": {
      "image/png": "[encoded data removed]",
      "text/plain": [
       "<Figure size 432x288 with 1 Axes>"
      ]
     },
     "metadata": {},
     "output_type": "display_data"
    }
   ],
   "source": [
    "flights_df.groupby('Month').size().plot(kind='bar')"
   ]
  },
  {
   "cell_type": "markdown",
   "metadata": {},
   "source": [
    "**17. Examine the distribution of cancellation reasons with time. Make a bar plot of cancellation reasons aggregated by months.**\n",
    "\n",
    "**Choose all correct statements:**\n",
    "- October has the lowest number of cancellations due to weather. \n",
    "- The highest number of cancellations in September is due to Security reasons.\n",
    "- April's top cancellation reason is carriers.\n",
    "- Flights cancellations due to National Air System are more frequent than those due to carriers."
   ]
  },
  {
   "cell_type": "code",
   "execution_count": 46,
   "metadata": {},
   "outputs": [
    {
     "data": {
      "text/plain": [
       "54330"
      ]
     },
     "execution_count": 46,
     "metadata": {},
     "output_type": "execute_result"
    }
   ],
   "source": [
    "tab = pd.crosstab(flights_df['Month'], flights_df['CancellationCode'])\n",
    "tab['A'].sum()"
   ]
  },
  {
   "cell_type": "code",
   "execution_count": 47,
   "metadata": {},
   "outputs": [
    {
     "data": {
      "text/plain": [
       "28188"
      ]
     },
     "execution_count": 47,
     "metadata": {},
     "output_type": "execute_result"
    }
   ],
   "source": [
    "tab['C'].sum()"
   ]
  },
  {
   "cell_type": "code",
   "execution_count": 48,
   "metadata": {},
   "outputs": [
    {
     "data": {
      "text/html": [
       "<div>\n",
       "<style scoped>\n",
       "    .dataframe tbody tr th:only-of-type {\n",
       "        vertical-align: middle;\n",
       "    }\n",
       "\n",
       "    .dataframe tbody tr th {\n",
       "        vertical-align: top;\n",
       "    }\n",
       "\n",
       "    .dataframe thead th {\n",
       "        text-align: right;\n",
       "    }\n",
       "</style>\n",
       "<table border=\"1\" class=\"dataframe\">\n",
       "  <thead>\n",
       "    <tr style=\"text-align: right;\">\n",
       "      <th>CancellationCode</th>\n",
       "      <th>A</th>\n",
       "      <th>B</th>\n",
       "      <th>C</th>\n",
       "      <th>D</th>\n",
       "    </tr>\n",
       "    <tr>\n",
       "      <th>Month</th>\n",
       "      <th></th>\n",
       "      <th></th>\n",
       "      <th></th>\n",
       "      <th></th>\n",
       "    </tr>\n",
       "  </thead>\n",
       "  <tbody>\n",
       "    <tr>\n",
       "      <th>1</th>\n",
       "      <td>6635</td>\n",
       "      <td>6711</td>\n",
       "      <td>3962</td>\n",
       "      <td>0</td>\n",
       "    </tr>\n",
       "    <tr>\n",
       "      <th>2</th>\n",
       "      <td>6090</td>\n",
       "      <td>10034</td>\n",
       "      <td>4470</td>\n",
       "      <td>2</td>\n",
       "    </tr>\n",
       "    <tr>\n",
       "      <th>3</th>\n",
       "      <td>6038</td>\n",
       "      <td>7520</td>\n",
       "      <td>2621</td>\n",
       "      <td>4</td>\n",
       "    </tr>\n",
       "    <tr>\n",
       "      <th>4</th>\n",
       "      <td>7312</td>\n",
       "      <td>1479</td>\n",
       "      <td>1564</td>\n",
       "      <td>0</td>\n",
       "    </tr>\n",
       "    <tr>\n",
       "      <th>5</th>\n",
       "      <td>3157</td>\n",
       "      <td>1461</td>\n",
       "      <td>1608</td>\n",
       "      <td>3</td>\n",
       "    </tr>\n",
       "    <tr>\n",
       "      <th>6</th>\n",
       "      <td>4251</td>\n",
       "      <td>3448</td>\n",
       "      <td>3232</td>\n",
       "      <td>0</td>\n",
       "    </tr>\n",
       "    <tr>\n",
       "      <th>7</th>\n",
       "      <td>5292</td>\n",
       "      <td>2612</td>\n",
       "      <td>2694</td>\n",
       "      <td>0</td>\n",
       "    </tr>\n",
       "    <tr>\n",
       "      <th>8</th>\n",
       "      <td>3852</td>\n",
       "      <td>3582</td>\n",
       "      <td>2401</td>\n",
       "      <td>0</td>\n",
       "    </tr>\n",
       "    <tr>\n",
       "      <th>9</th>\n",
       "      <td>2246</td>\n",
       "      <td>6478</td>\n",
       "      <td>1188</td>\n",
       "      <td>1</td>\n",
       "    </tr>\n",
       "    <tr>\n",
       "      <th>10</th>\n",
       "      <td>2097</td>\n",
       "      <td>600</td>\n",
       "      <td>552</td>\n",
       "      <td>0</td>\n",
       "    </tr>\n",
       "    <tr>\n",
       "      <th>11</th>\n",
       "      <td>2510</td>\n",
       "      <td>937</td>\n",
       "      <td>1009</td>\n",
       "      <td>2</td>\n",
       "    </tr>\n",
       "    <tr>\n",
       "      <th>12</th>\n",
       "      <td>4850</td>\n",
       "      <td>10042</td>\n",
       "      <td>2887</td>\n",
       "      <td>0</td>\n",
       "    </tr>\n",
       "  </tbody>\n",
       "</table>\n",
       "</div>"
      ],
      "text/plain": [
       "CancellationCode     A      B     C  D\n",
       "Month                                 \n",
       "1                 6635   6711  3962  0\n",
       "2                 6090  10034  4470  2\n",
       "3                 6038   7520  2621  4\n",
       "4                 7312   1479  1564  0\n",
       "5                 3157   1461  1608  3\n",
       "6                 4251   3448  3232  0\n",
       "7                 5292   2612  2694  0\n",
       "8                 3852   3582  2401  0\n",
       "9                 2246   6478  1188  1\n",
       "10                2097    600   552  0\n",
       "11                2510    937  1009  2\n",
       "12                4850  10042  2887  0"
      ]
     },
     "execution_count": 48,
     "metadata": {},
     "output_type": "execute_result"
    }
   ],
   "source": [
    "tab"
   ]
  },
  {
   "cell_type": "markdown",
   "metadata": {},
   "source": [
    "**18. Which month has the greatest number of cancellations due to Carrier?** \n",
    "- May\n",
    "- January\n",
    "- September\n",
    "- April"
   ]
  },
  {
   "cell_type": "code",
   "execution_count": 49,
   "metadata": {},
   "outputs": [
    {
     "data": {
      "text/plain": [
       "<matplotlib.axes._subplots.AxesSubplot at 0x20e309bcb00>"
      ]
     },
     "execution_count": 49,
     "metadata": {},
     "output_type": "execute_result"
    },
    {
     "data": {
      "image/png": "[encoded data removed]",
      "text/plain": [
       "<Figure size 432x288 with 1 Axes>"
      ]
     },
     "metadata": {},
     "output_type": "display_data"
    }
   ],
   "source": [
    "flights_df[flights_df['CancellationCode'] == 'A'].groupby('Month').size().plot(kind='bar')"
   ]
  },
  {
   "cell_type": "markdown",
   "metadata": {},
   "source": [
    "**19. Identify the carrier with the greatest number of cancellations due to carrier in the corresponding month from the previous question.**\n",
    "\n",
    "- 9E\n",
    "- EV\n",
    "- HA\n",
    "- AA"
   ]
  },
  {
   "cell_type": "code",
   "execution_count": 50,
   "metadata": {},
   "outputs": [
    {
     "data": {
      "text/plain": [
       "<matplotlib.axes._subplots.AxesSubplot at 0x20d81cc9128>"
      ]
     },
     "execution_count": 50,
     "metadata": {},
     "output_type": "execute_result"
    },
    {
     "data": {
      "image/png": "[encoded data removed]",
      "text/plain": [
       "<Figure size 432x288 with 1 Axes>"
      ]
     },
     "metadata": {},
     "output_type": "display_data"
    }
   ],
   "source": [
    "flights_df[(flights_df['Month'] == 4) & (flights_df['CancellationCode'] == 'A')].groupby('UniqueCarrier').size().plot(kind='bar')"
   ]
  },
  {
   "cell_type": "markdown",
   "metadata": {},
   "source": [
    "**20. Examine median arrival and departure delays (in time) by carrier. Which carrier has the lowest median delay time for both arrivals and departures? Leave only non-negative values of delay times ('ArrDelay', 'DepDelay').\n",
    "([Boxplots](https://seaborn.pydata.org/generated/seaborn.boxplot.html) can be helpful in this exercise, as well as it might be a good idea to remove outliers in order to build nice graphs. You can exclude delay time values higher than a corresponding .95 percentile).**\n",
    "\n",
    "- EV\n",
    "- OO\n",
    "- AA\n",
    "- AQ"
   ]
  },
  {
   "cell_type": "code",
   "execution_count": 54,
   "metadata": {},
   "outputs": [],
   "source": [
    "data = flights_df[(flights_df['DepDelay'] >= 0) & (flights_df['ArrDelay'] >= 0)].\\\n",
    "                    groupby('UniqueCarrier')[['DepDelay', 'ArrDelay']].median()"
   ]
  },
  {
   "cell_type": "code",
   "execution_count": 55,
   "metadata": {},
   "outputs": [
    {
     "data": {
      "text/plain": [
       "'AQ'"
      ]
     },
     "execution_count": 55,
     "metadata": {},
     "output_type": "execute_result"
    }
   ],
   "source": [
    "data['DepDelay'].idxmin()"
   ]
  },
  {
   "cell_type": "code",
   "execution_count": 56,
   "metadata": {},
   "outputs": [
    {
     "data": {
      "text/plain": [
       "'AQ'"
      ]
     },
     "execution_count": 56,
     "metadata": {},
     "output_type": "execute_result"
    }
   ],
   "source": [
    "data['ArrDelay'].idxmin()"
   ]
  }
 ],
 "metadata": {
  "anaconda-cloud": {},
  "kernelspec": {
   "display_name": "Python 3",
   "language": "python",
   "name": "python3"
  },
  "language_info": {
   "codemirror_mode": {
    "name": "ipython",
    "version": 3
   },
   "file_extension": ".py",
   "mimetype": "text/x-python",
   "name": "python",
   "nbconvert_exporter": "python",
   "pygments_lexer": "ipython3",
   "version": "3.6.5"
  },
  "widgets": {
   "application/vnd.jupyter.widget-state+json": {
    "state": {},
    "version_major": 2,
    "version_minor": 0
   }
  }
 },
 "nbformat": 4,
 "nbformat_minor": 1
}
