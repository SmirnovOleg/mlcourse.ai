{
 "cells": [
  {
   "cell_type": "markdown",
   "metadata": {},
   "source": [
    "## Open Machine Learning Course \n",
    "Author: [Yury Kashnitskiy](https://yorko.github.io) (@yorko). Edited by Sergey Kolchenko (@KolchenkoSergey). This material is subject to the terms and conditions of the [Creative Commons CC BY-NC-SA 4.0](https://creativecommons.org/licenses/by-nc-sa/4.0/) license. Free use is permitted for any non-commercial purpose."
   ]
  },
  {
   "cell_type": "code",
   "execution_count": 222,
   "metadata": {},
   "outputs": [],
   "source": [
    "import os\n",
    "import json\n",
    "from tqdm import tqdm_notebook, tqdm\n",
    "import numpy as np\n",
    "import pandas as pd\n",
    "from sklearn.feature_extraction.text import TfidfVectorizer, CountVectorizer\n",
    "from sklearn.preprocessing import StandardScaler\n",
    "from sklearn.metrics import mean_absolute_error\n",
    "from scipy.sparse import csr_matrix, hstack\n",
    "from sklearn.linear_model import Ridge, Lasso\n",
    "from matplotlib import pyplot as plt\n",
    "%matplotlib inline"
   ]
  },
  {
   "cell_type": "markdown",
   "metadata": {},
   "source": [
    "The following code will help to throw away all HTML tags from an article content."
   ]
  },
  {
   "cell_type": "code",
   "execution_count": 181,
   "metadata": {},
   "outputs": [],
   "source": [
    "from html.parser import HTMLParser\n",
    "\n",
    "class MLStripper(HTMLParser):\n",
    "    def __init__(self):\n",
    "        self.reset()\n",
    "        self.strict = False\n",
    "        self.convert_charrefs= True\n",
    "        self.fed = []\n",
    "    def handle_data(self, d):\n",
    "        self.fed.append(d)\n",
    "    def get_data(self):\n",
    "        return ''.join(self.fed)\n",
    "\n",
    "def strip_tags(html):\n",
    "    s = MLStripper()\n",
    "    s.feed(html)\n",
    "    return s.get_data()"
   ]
  },
  {
   "cell_type": "markdown",
   "metadata": {},
   "source": [
    "Supplementary function to read a JSON line without crashing on escape characters."
   ]
  },
  {
   "cell_type": "code",
   "execution_count": 182,
   "metadata": {},
   "outputs": [],
   "source": [
    "def read_json_line(line=None):\n",
    "    result = None\n",
    "    try:        \n",
    "        result = json.loads(line)\n",
    "    except Exception as e:      \n",
    "        # Find the offending character index:\n",
    "        idx_to_replace = int(str(e).split(' ')[-1].replace(')',''))      \n",
    "        # Remove the offending character:\n",
    "        new_line = list(line)\n",
    "        new_line[idx_to_replace] = ' '\n",
    "        new_line = ''.join(new_line)     \n",
    "        return read_json_line(line=new_line)\n",
    "    return result"
   ]
  },
  {
   "cell_type": "markdown",
   "metadata": {},
   "source": [
    "Extract features `content`, `published`, `title` and `author`, write them to separate files for train and test sets."
   ]
  },
  {
   "cell_type": "code",
   "execution_count": 261,
   "metadata": {},
   "outputs": [
    {
     "name": "stdout",
     "output_type": "stream",
     "text": [
      "[nltk_data] Downloading package stopwords to\n",
      "[nltk_data]     C:\\Users\\Олег\\AppData\\Roaming\\nltk_data...\n",
      "[nltk_data]   Package stopwords is already up-to-date!\n",
      "[nltk_data] Downloading package punkt to\n",
      "[nltk_data]     C:\\Users\\Олег\\AppData\\Roaming\\nltk_data...\n",
      "[nltk_data]   Package punkt is already up-to-date!\n",
      "[nltk_data] Downloading package wordnet to\n",
      "[nltk_data]     C:\\Users\\Олег\\AppData\\Roaming\\nltk_data...\n",
      "[nltk_data]   Unzipping corpora\\wordnet.zip.\n"
     ]
    }
   ],
   "source": [
    "import nltk\n",
    "nltk.download('stopwords')\n",
    "nltk.download('punkt')\n",
    "nltk.download('wordnet')\n",
    "from nltk.corpus import stopwords \n",
    "from nltk.tokenize import word_tokenize \n",
    "from nltk.stem import PorterStemmer\n",
    "from nltk import WordNetLemmatizer"
   ]
  },
  {
   "cell_type": "code",
   "execution_count": 240,
   "metadata": {},
   "outputs": [],
   "source": [
    "def extract_features_and_write(path_to_data, inp_filename, is_train=True):\n",
    "    \n",
    "    features = ['content', 'published', 'title', 'author', 'desc', 'time_read']\n",
    "    prefix = 'train' if is_train else 'test'\n",
    "    feature_files = [open(os.path.join(path_to_data, '{}_{}.txt'.format(prefix, feat)), 'w', encoding='utf-8')\n",
    "                         for feat in features]\n",
    "    text_feature_file = open('{}_{}.txt'.format(prefix, 'text_feature'), 'w', encoding='utf-8')\n",
    "    \n",
    "    with open(os.path.join(path_to_data, inp_filename), encoding='utf-8') as inp_json_file:\n",
    "        for line in tqdm_notebook(inp_json_file):\n",
    "            json_data = read_json_line(line)\n",
    "            \n",
    "            #CONTENT\n",
    "            html = json_data['content'].replace('\\n', ' ').replace('\\r', ' ')\n",
    "            content = strip_tags(html)\n",
    "            images = html.count('<img')\n",
    "            paragraphs = html.count('</p>')\n",
    "            links = html.count('<a href=')\n",
    "            length = len(content)\n",
    "            text_feature_file.write('{},{},{},{}\\n'.format(images, paragraphs, links, length))\n",
    "            \n",
    "            #PUBLISHED\n",
    "            published = json_data['published']['$date']\n",
    "            \n",
    "            #TITLE\n",
    "            title = json_data['title'].replace('\\n', ' ').replace('\\r', ' ')\n",
    "            \n",
    "            #AUTHOR NAME\n",
    "            author = str(json_data['author']['url'])\n",
    "            \n",
    "            #DESCRIPTION\n",
    "            desc = json_data['meta_tags']['description'].replace('\\n', ' ').replace('\\r', ' ')\n",
    "            if (desc == ''):\n",
    "                desc = 'none'\n",
    "            #word_tokens = word_tokenize(desc)\n",
    "            #desc = \" \".join([ps.stem(w) for w in word_tokens if not w in stop_words and w.isalpha()])\n",
    "            \n",
    "            #TIME TO READ\n",
    "            time = json_data['meta_tags']['twitter:data1'].replace(' ', '')\n",
    "            if (time == ''):\n",
    "                time = '7minread'\n",
    "            \n",
    "            feature_files[0].write(content + '\\n')\n",
    "            feature_files[1].write(published + '\\n')\n",
    "            feature_files[2].write(title + '\\n')\n",
    "            feature_files[3].write(author + '\\n')  \n",
    "            feature_files[4].write(desc + '\\n')  \n",
    "            feature_files[5].write(time + '\\n')  \n",
    "    \n",
    "    for file in feature_files:\n",
    "        file.close()\n",
    "    text_feature_file.close()"
   ]
  },
  {
   "cell_type": "code",
   "execution_count": 241,
   "metadata": {},
   "outputs": [
    {
     "data": {
      "application/vnd.jupyter.widget-view+json": {
       "model_id": "fab7d16d7d2f4a5da89d6f525e049740",
       "version_major": 2,
       "version_minor": 0
      },
      "text/plain": [
       "HBox(children=(IntProgress(value=1, bar_style='info', max=1), HTML(value='')))"
      ]
     },
     "metadata": {},
     "output_type": "display_data"
    }
   ],
   "source": [
    "extract_features_and_write('', 'data/train.json', is_train=True)"
   ]
  },
  {
   "cell_type": "code",
   "execution_count": 242,
   "metadata": {
    "scrolled": true
   },
   "outputs": [
    {
     "data": {
      "application/vnd.jupyter.widget-view+json": {
       "model_id": "a228e4a50226464ab084b2b361485264",
       "version_major": 2,
       "version_minor": 0
      },
      "text/plain": [
       "HBox(children=(IntProgress(value=1, bar_style='info', max=1), HTML(value='')))"
      ]
     },
     "metadata": {},
     "output_type": "display_data"
    }
   ],
   "source": [
    "extract_features_and_write('', 'data/test.json', is_train=False)"
   ]
  },
  {
   "cell_type": "code",
   "execution_count": 268,
   "metadata": {},
   "outputs": [
    {
     "data": {
      "application/vnd.jupyter.widget-view+json": {
       "model_id": "fedff255d1fd4bf58b63d1e7949c14df",
       "version_major": 2,
       "version_minor": 0
      },
      "text/plain": [
       "HBox(children=(IntProgress(value=1, bar_style='info', max=1), HTML(value='')))"
      ]
     },
     "metadata": {},
     "output_type": "display_data"
    },
    {
     "data": {
      "application/vnd.jupyter.widget-view+json": {
       "model_id": "f1761b243ed84a0e9862190a3c89005d",
       "version_major": 2,
       "version_minor": 0
      },
      "text/plain": [
       "HBox(children=(IntProgress(value=1, bar_style='info', max=1), HTML(value='')))"
      ]
     },
     "metadata": {},
     "output_type": "display_data"
    }
   ],
   "source": [
    "file = open('data/train_author.txt', 'w', encoding='utf-8')\n",
    "with open(os.path.join('data/train.json'), encoding='utf-8') as inp_json_file:\n",
    "    for line in tqdm_notebook(inp_json_file):\n",
    "        json_data = read_json_line(line)\n",
    "        file.write(json_data['author']['url'].split('@')[1] + '\\n')\n",
    "file.close()\n",
    "file = open('data/test_author.txt', 'w', encoding='utf-8')\n",
    "with open(os.path.join('data/test.json'), encoding='utf-8') as inp_json_file:\n",
    "    for line in tqdm_notebook(inp_json_file):\n",
    "        json_data = read_json_line(line)\n",
    "        file.write(json_data['author']['url'].split('@')[1] + '\\n')\n",
    "file.close()"
   ]
  },
  {
   "cell_type": "markdown",
   "metadata": {},
   "source": [
    "**Add the following groups of features:**\n",
    "    - Tf-Idf with article content (ngram_range=(1, 2), max_features=100000 but you can try adding more)\n",
    "    - Tf-Idf with article titles (ngram_range=(1, 2), max_features=100000 but you can try adding more)\n",
    "    - Time features: publication hour, whether it's morning, day, night, whether it's a weekend\n",
    "    - Bag of authors (i.e. One-Hot-Encoded author names)"
   ]
  },
  {
   "cell_type": "code",
   "execution_count": 258,
   "metadata": {},
   "outputs": [],
   "source": [
    "class Tokenizer(object):\n",
    "    \n",
    "    def __init__(self, stemmer=PorterStemmer, lemmatizer=WordNetLemmatizer):\n",
    "        self.stemmer = stemmer()\n",
    "        self.lemmatizer = lemmatizer()\n",
    "        \n",
    "    def __call__(self, doc):\n",
    "        from string import punctuation, digits\n",
    "        other_unicode_chars = '’’”“\\u200b'\n",
    "        chars_to_remove = ''.join((punctuation,\n",
    "                                   digits,\n",
    "                                   other_unicode_chars))\n",
    "        transtab = str.maketrans(chars_to_remove, ' '*len(chars_to_remove))\n",
    "        return [self.stemmer.stem(self.lemmatizer.lemmatize(token, pos='v')) \n",
    "                for token in word_tokenize(doc.translate(transtab)) \n",
    "                if len(token) >= 3]"
   ]
  },
  {
   "cell_type": "code",
   "execution_count": 262,
   "metadata": {},
   "outputs": [],
   "source": [
    "from sklearn.feature_extraction import text \n",
    "stop_words = text.ENGLISH_STOP_WORDS\n",
    "temp = []\n",
    "s = Tokenizer()\n",
    "for eggs in stop_words:\n",
    "    token = s(eggs)\n",
    "    if token:\n",
    "        temp += token\n",
    "stop_words = temp"
   ]
  },
  {
   "cell_type": "markdown",
   "metadata": {},
   "source": [
    "#### Adding titles and content bag-of-words"
   ]
  },
  {
   "cell_type": "code",
   "execution_count": 281,
   "metadata": {
    "scrolled": true
   },
   "outputs": [
    {
     "name": "stdout",
     "output_type": "stream",
     "text": [
      "(62313, 50000)\n",
      "(34645, 50000)\n",
      "(62313, 100000)\n",
      "(34645, 100000)\n",
      "Wall time: 5min 56s\n"
     ]
    }
   ],
   "source": [
    "%%time\n",
    "\n",
    "tfidf = TfidfVectorizer(ngram_range=(1, 2), max_features=50000)\n",
    "X_train_title_sparse = tfidf.fit_transform(open('train_title.txt', encoding='utf-8'))\n",
    "print(X_train_title_sparse.shape)\n",
    "X_test_title_sparse = tfidf.transform(open('test_title.txt', encoding='utf-8'))\n",
    "print(X_test_title_sparse.shape)\n",
    "\n",
    "vect = CountVectorizer(max_features=100000)\n",
    "X_train_content_sparse = vect.fit_transform(open('train_content.txt', encoding='utf-8'))\n",
    "print(X_train_content_sparse.shape)\n",
    "X_test_content_sparse = vect.transform(open('test_content.txt', encoding='utf-8'))\n",
    "print(X_test_content_sparse.shape)\n"
   ]
  },
  {
   "cell_type": "markdown",
   "metadata": {},
   "source": [
    "#### Adding desc and time_read"
   ]
  },
  {
   "cell_type": "code",
   "execution_count": 265,
   "metadata": {},
   "outputs": [
    {
     "name": "stdout",
     "output_type": "stream",
     "text": [
      "(62313, 50000)\n",
      "(34645, 50000)\n",
      "(62313, 112)\n",
      "(34645, 112)\n",
      "Wall time: 2min 47s\n"
     ]
    }
   ],
   "source": [
    "%%time\n",
    "tfidf = TfidfVectorizer(ngram_range=(1, 2), tokenizer=Tokenizer(),\n",
    "                                     stop_words=stop_words, max_features=50000)\n",
    "X_train_desc_sparse = tfidf.fit_transform(open('train_desc.txt', encoding='utf-8'))\n",
    "print(X_train_desc_sparse.shape)\n",
    "X_test_desc_sparse = tfidf.transform(open('test_desc.txt', encoding='utf-8'))\n",
    "print(X_test_desc_sparse.shape)\n",
    "\n",
    "vect = CountVectorizer(max_features=50000)\n",
    "X_train_time_read_sparse = vect.fit_transform(open('train_time_read.txt', encoding='utf-8'))\n",
    "print(X_train_time_read_sparse.shape)\n",
    "X_test_time_read_sparse = vect.transform(open('test_time_read.txt', encoding='utf-8'))\n",
    "print(X_test_time_read_sparse.shape)"
   ]
  },
  {
   "cell_type": "markdown",
   "metadata": {},
   "source": [
    "#### Authors bag-of-names"
   ]
  },
  {
   "cell_type": "code",
   "execution_count": 269,
   "metadata": {},
   "outputs": [
    {
     "name": "stdout",
     "output_type": "stream",
     "text": [
      "(62313, 32365)\n",
      "(34645, 32365)\n",
      "Wall time: 922 ms\n"
     ]
    }
   ],
   "source": [
    "%%time\n",
    "\n",
    "vect = CountVectorizer(max_features=50000)\n",
    "X_train_author_sparse = vect.fit_transform(open('train_author.txt', encoding='utf-8'))\n",
    "print(X_train_author_sparse.shape)\n",
    "X_test_author_sparse = vect.transform(open('test_author.txt', encoding='utf-8'))\n",
    "print(X_test_author_sparse.shape)"
   ]
  },
  {
   "cell_type": "markdown",
   "metadata": {},
   "source": [
    "### Adding content features like img and len"
   ]
  },
  {
   "cell_type": "code",
   "execution_count": 246,
   "metadata": {},
   "outputs": [],
   "source": [
    "text_train_df = pd.read_csv('train_text_feature.txt', header=None, names=['images', 'paragraphs', 'links', 'length'])\n",
    "text_test_df = pd.read_csv('test_text_feature.txt', header=None, names=['images', 'paragraphs', 'links', 'length'])\n",
    "text_df = pd.concat([text_train_df, text_test_df])\n",
    "idx_split = text_train_df.shape[0]"
   ]
  },
  {
   "cell_type": "code",
   "execution_count": 282,
   "metadata": {},
   "outputs": [],
   "source": [
    "scaled_img = StandardScaler().fit_transform(text_df[['images']])\n",
    "scaled_p = StandardScaler().fit_transform(text_df[['paragraphs']])\n",
    "scaled_links = StandardScaler().fit_transform(text_df[['links']])\n",
    "scaled_len = StandardScaler().fit_transform(text_df[['length']])\n",
    "text_df['short'] = text_df['length'].apply(lambda size: 1 if (size < 1350) else -1)\n",
    "text_df['medium'] = text_df['length'].apply(lambda size: 1 if (size >= 1350 and size < 2700) else -1)\n",
    "text_df['long'] = text_df['length'].apply(lambda size: 1 if (size >= 2700 and size < 6750) else -1)\n",
    "text_df['huge'] = text_df['length'].apply(lambda size: 1 if (size >= 6750) else -1)\n",
    "\n",
    "\n",
    "X_text_features = np.hstack([scaled_img, \n",
    "                             scaled_p,\n",
    "                             scaled_links, \n",
    "                             #scaled_len,\n",
    "                             text_df['short'].values.reshape(-1, 1),\n",
    "                             text_df['medium'].values.reshape(-1, 1),\n",
    "                             text_df['long'].values.reshape(-1, 1),\n",
    "                             text_df['huge'].values.reshape(-1, 1)\n",
    "                            ])\n",
    "X_train_text_features = X_text_features[:idx_split, :]\n",
    "X_test_text_features = X_text_features[idx_split:, :]"
   ]
  },
  {
   "cell_type": "markdown",
   "metadata": {},
   "source": [
    "#### Adding time features"
   ]
  },
  {
   "cell_type": "code",
   "execution_count": 212,
   "metadata": {},
   "outputs": [
    {
     "data": {
      "text/html": [
       "<div>\n",
       "<style scoped>\n",
       "    .dataframe tbody tr th:only-of-type {\n",
       "        vertical-align: middle;\n",
       "    }\n",
       "\n",
       "    .dataframe tbody tr th {\n",
       "        vertical-align: top;\n",
       "    }\n",
       "\n",
       "    .dataframe thead th {\n",
       "        text-align: right;\n",
       "    }\n",
       "</style>\n",
       "<table border=\"1\" class=\"dataframe\">\n",
       "  <thead>\n",
       "    <tr style=\"text-align: right;\">\n",
       "      <th></th>\n",
       "      <th>published</th>\n",
       "    </tr>\n",
       "  </thead>\n",
       "  <tbody>\n",
       "    <tr>\n",
       "      <th>0</th>\n",
       "      <td>2012-08-13 22:54:53.510000+00:00</td>\n",
       "    </tr>\n",
       "    <tr>\n",
       "      <th>1</th>\n",
       "      <td>2015-08-03 07:44:50.331000+00:00</td>\n",
       "    </tr>\n",
       "    <tr>\n",
       "      <th>2</th>\n",
       "      <td>2017-02-05 13:08:17.410000+00:00</td>\n",
       "    </tr>\n",
       "    <tr>\n",
       "      <th>3</th>\n",
       "      <td>2017-05-06 08:16:30.776000+00:00</td>\n",
       "    </tr>\n",
       "    <tr>\n",
       "      <th>4</th>\n",
       "      <td>2017-06-04 14:46:25.772000+00:00</td>\n",
       "    </tr>\n",
       "  </tbody>\n",
       "</table>\n",
       "</div>"
      ],
      "text/plain": [
       "                         published\n",
       "0 2012-08-13 22:54:53.510000+00:00\n",
       "1 2015-08-03 07:44:50.331000+00:00\n",
       "2 2017-02-05 13:08:17.410000+00:00\n",
       "3 2017-05-06 08:16:30.776000+00:00\n",
       "4 2017-06-04 14:46:25.772000+00:00"
      ]
     },
     "execution_count": 212,
     "metadata": {},
     "output_type": "execute_result"
    }
   ],
   "source": [
    "import dateutil.parser\n",
    "time_train_df = pd.read_csv('train_published.txt', header=None, names=['published'])\n",
    "time_test_df = pd.read_csv('test_published.txt', header=None, names=['published'])\n",
    "time_df = pd.concat([time_train_df, time_test_df])\n",
    "idx_split = time_train_df.shape[0]\n",
    "\n",
    "time_df['published'] = time_df['published'].apply(lambda s: dateutil.parser.parse(s))\n",
    "time_df.head()"
   ]
  },
  {
   "cell_type": "code",
   "execution_count": 214,
   "metadata": {
    "scrolled": true
   },
   "outputs": [
    {
     "data": {
      "application/vnd.jupyter.widget-view+json": {
       "model_id": "770080cb42cd4bee99df7b56da2d7393",
       "version_major": 2,
       "version_minor": 0
      },
      "text/plain": [
       "HBox(children=(IntProgress(value=1, bar_style='info', max=1), HTML(value='')))"
      ]
     },
     "metadata": {},
     "output_type": "display_data"
    },
    {
     "name": "stdout",
     "output_type": "stream",
     "text": [
      "Wall time: 19.3 s\n"
     ]
    }
   ],
   "source": [
    "%%time\n",
    "time_df['year'] = time_df['published'].apply(lambda ts: ts.year)\n",
    "scaled_year = StandardScaler().fit_transform(time_df[['year']])\n",
    "time_df['month'] = time_df['published'].apply(lambda ts: ts.month)\n",
    "\n",
    "weekdays = ['day%s' % i for i in range(1, 8)]\n",
    "hours = ['hour%s' % i for i in range(0, 24)]\n",
    "\n",
    "for i, day in enumerate(weekdays):\n",
    "    time_df[day] = time_df['published'].apply(lambda ts: 1 if (ts.weekday() == i) else -1)\n",
    "for i, hour in tqdm_notebook(enumerate(hours)):\n",
    "    time_df[hour] = time_df['published'].apply(lambda ts: 1 if (ts.hour == i) else -1)\n",
    "    \n",
    "time_df['isweekend'] = time_df['published'].apply(lambda ts: 1 if (ts.weekday() >= 6) else -1)\n",
    "time_df['winter'] = time_df['month'].apply(lambda month: 1 if (month <= 2 or month == 12) else -1)\n",
    "time_df['spring'] = time_df['month'].apply(lambda month: 1 if (month >= 3 and month <= 5) else -1)\n",
    "time_df['summer'] = time_df['month'].apply(lambda month: 1 if (month >= 6 and month <= 8) else -1)\n",
    "time_df['autumn'] = time_df['month'].apply(lambda month: 1 if (month >= 9 and month <= 11) else -1)\n"
   ]
  },
  {
   "cell_type": "code",
   "execution_count": 227,
   "metadata": {},
   "outputs": [],
   "source": [
    "X_time_features = np.hstack([#scaled_year,\n",
    "                          time_df[hours].values.reshape(-1, 24),\n",
    "                          time_df['winter'].values.reshape(-1, 1),\n",
    "                          time_df['spring'].values.reshape(-1, 1),\n",
    "                          time_df['summer'].values.reshape(-1, 1),\n",
    "                          time_df['autumn'].values.reshape(-1, 1),\n",
    "                          time_df['isweekend'].values.reshape(-1, 1),\n",
    "                         ])\n",
    "X_train_time_features = X_time_features[:idx_split, :]\n",
    "X_test_time_features = X_time_features[idx_split:, :]"
   ]
  },
  {
   "cell_type": "markdown",
   "metadata": {},
   "source": [
    "**Join all sparse matrices.**"
   ]
  },
  {
   "cell_type": "code",
   "execution_count": 283,
   "metadata": {},
   "outputs": [],
   "source": [
    "X_train_sparse = hstack([X_train_content_sparse, X_train_title_sparse,\n",
    "                         X_train_author_sparse, \n",
    "                         X_train_time_features,\n",
    "                         X_train_desc_sparse,\n",
    "                         X_train_time_read_sparse,\n",
    "                         X_train_text_features,\n",
    "                        ]).tocsr()"
   ]
  },
  {
   "cell_type": "code",
   "execution_count": 284,
   "metadata": {},
   "outputs": [],
   "source": [
    "X_test_sparse = hstack([X_test_content_sparse, X_test_title_sparse,\n",
    "                        X_test_author_sparse, \n",
    "                        X_test_time_features,\n",
    "                        X_test_desc_sparse,\n",
    "                        X_test_time_read_sparse,\n",
    "                        X_test_text_features\n",
    "                       ]).tocsr()"
   ]
  },
  {
   "cell_type": "code",
   "execution_count": 285,
   "metadata": {},
   "outputs": [
    {
     "data": {
      "text/plain": [
       "((62313, 232513), (34645, 232513))"
      ]
     },
     "execution_count": 285,
     "metadata": {},
     "output_type": "execute_result"
    }
   ],
   "source": [
    "X_train_sparse.shape, X_test_sparse.shape"
   ]
  },
  {
   "cell_type": "markdown",
   "metadata": {},
   "source": [
    "**Read train target and split data for validation.**"
   ]
  },
  {
   "cell_type": "code",
   "execution_count": 77,
   "metadata": {},
   "outputs": [],
   "source": [
    "train_target = pd.read_csv(os.path.join('', 'data/train_log1p_recommends.csv'), index_col='id')\n",
    "y_train = train_target['log_recommends'].values"
   ]
  },
  {
   "cell_type": "code",
   "execution_count": 273,
   "metadata": {},
   "outputs": [],
   "source": [
    "train_part_size = int(0.7 * train_target.shape[0])\n",
    "X_train_part_sparse = X_train_sparse[:train_part_size, :]\n",
    "y_train_part = y_train[:train_part_size]\n",
    "X_valid_sparse =  X_train_sparse[train_part_size:, :]\n",
    "y_valid = y_train[train_part_size:]"
   ]
  },
  {
   "cell_type": "markdown",
   "metadata": {},
   "source": [
    "**Train a simple Ridge model and check MAE on the validation set.**"
   ]
  },
  {
   "cell_type": "code",
   "execution_count": 286,
   "metadata": {
    "scrolled": true
   },
   "outputs": [
    {
     "name": "stdout",
     "output_type": "stream",
     "text": [
      "Wall time: 172 ms\n"
     ]
    }
   ],
   "source": [
    "%%time\n",
    "ridge = Ridge(random_state=17, alpha=0.5)\n",
    "ridge.fit(X_train_part_sparse, (y_train_part))"
   ]
  },
  {
   "cell_type": "code",
   "execution_count": 290,
   "metadata": {
    "scrolled": true
   },
   "outputs": [
    {
     "name": "stdout",
     "output_type": "stream",
     "text": [
      "1.4464968989567717\n",
      "Wall time: 3.25 s\n"
     ]
    }
   ],
   "source": [
    "%%time\n",
    "ridge_pred = (ridge.predict(X_valid_sparse))\n",
    "ridge_valid_mae = mean_absolute_error((y_valid), ridge_pred)\n",
    "print(ridge_valid_mae)"
   ]
  },
  {
   "cell_type": "code",
   "execution_count": 279,
   "metadata": {},
   "outputs": [
    {
     "data": {
      "text/plain": [
       "<matplotlib.legend.Legend at 0x185aec0bb00>"
      ]
     },
     "execution_count": 279,
     "metadata": {},
     "output_type": "execute_result"
    },
    {
     "data": {
      "image/png": "[encoded data removed]",
      "text/plain": [
       "<Figure size 432x288 with 1 Axes>"
      ]
     },
     "metadata": {},
     "output_type": "display_data"
    }
   ],
   "source": [
    "#plt.hist(np.log1p(y_train_part), bins=30, alpha=.5, color='red', label='train', range=(0,10))\n",
    "plt.hist((y_valid), bins=30, alpha=.5, color='blue', label='valid', range=(0,10))\n",
    "plt.hist((ridge_pred), bins=30, alpha=.5, color='green', label='Ridge', range=(0,10))\n",
    "plt.legend()"
   ]
  },
  {
   "cell_type": "markdown",
   "metadata": {},
   "source": [
    "**Train the same Ridge with all available data, make predictions for the test set and form a submission file.**"
   ]
  },
  {
   "cell_type": "code",
   "execution_count": 287,
   "metadata": {},
   "outputs": [],
   "source": [
    "ridge.fit(X_train_sparse, (y_train))\n",
    "ridge_test_pred = (ridge.predict(X_test_sparse))"
   ]
  },
  {
   "cell_type": "code",
   "execution_count": 288,
   "metadata": {},
   "outputs": [],
   "source": [
    "def write_submission_file(prediction, filename, path_to_sample='sample_submission.csv'):\n",
    "    submission = pd.read_csv(path_to_sample, index_col='id')\n",
    "    submission['log_recommends'] = prediction\n",
    "    submission.to_csv(filename)"
   ]
  },
  {
   "cell_type": "code",
   "execution_count": 289,
   "metadata": {},
   "outputs": [],
   "source": [
    "mean_test_target = 4.33328\n",
    "write_submission_file(ridge_test_pred + mean_test_target - y_train.mean(), 'medium_submission_!!!.csv')"
   ]
  },
  {
   "cell_type": "markdown",
   "metadata": {},
   "source": [
    "Some ideas for improvement:\n",
    "\n",
    "- Engineer good features, this is the key to success. Some simple features will be based on publication time, authors, content length and so on\n",
    "- You may not ignore HTML and extract some features from there\n",
    "- You'd better experiment with your validation scheme. You should see a correlation between your local improvements and LB score\n",
    "- Try TF-IDF, ngrams, Word2Vec and GloVe embeddings\n",
    "- Try various NLP techniques like stemming and lemmatization\n",
    "- Tune hyperparameters. In our example, we've left only 50k features and used C=1 as a regularization parameter, this can be changed\n",
    "- SGD and Vowpal Wabbit will learn much faster\n",
    "- Play around with blending and/or stacking. An intro is given in [this Kernel](https://www.kaggle.com/kashnitsky/ridge-and-lightgbm-simple-blending) by @yorko \n",
    "- In our course, we don't cover neural nets. But it's not obliged to use GRUs/LSTMs/whatever in this competition.\n",
    "\n",
    "Good luck!\n",
    "\n"
   ]
  }
 ],
 "metadata": {
  "kernelspec": {
   "display_name": "Python 3",
   "language": "python",
   "name": "python3"
  },
  "language_info": {
   "codemirror_mode": {
    "name": "ipython",
    "version": 3
   },
   "file_extension": ".py",
   "mimetype": "text/x-python",
   "name": "python",
   "nbconvert_exporter": "python",
   "pygments_lexer": "ipython3",
   "version": "3.6.5"
  }
 },
 "nbformat": 4,
 "nbformat_minor": 2
}
